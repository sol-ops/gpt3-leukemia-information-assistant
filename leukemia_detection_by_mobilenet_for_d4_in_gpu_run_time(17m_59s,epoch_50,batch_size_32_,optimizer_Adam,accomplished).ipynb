{
  "cells": [
    {
      "cell_type": "markdown",
      "metadata": {
        "id": "view-in-github",
        "colab_type": "text"
      },
      "source": [
        "<a href=\"https://colab.research.google.com/github/sol-ops/gpt3-leukemia-information-assistant/blob/main/leukemia_detection_by_mobilenet_for_d4_in_gpu_run_time(17m_59s%2Cepoch_50%2Cbatch_size_32_%2Coptimizer_Adam%2Caccomplished).ipynb\" target=\"_parent\"><img src=\"https://colab.research.google.com/assets/colab-badge.svg\" alt=\"Open In Colab\"/></a>"
      ]
    },
    {
      "cell_type": "code",
      "execution_count": null,
      "metadata": {
        "colab": {
          "base_uri": "https://localhost:8080/"
        },
        "id": "7lwXrCxm6SWh",
        "outputId": "4415e090-2d1c-4c5a-d842-7282d997088c"
      },
      "outputs": [
        {
          "output_type": "stream",
          "name": "stdout",
          "text": [
            "Looking in indexes: https://pypi.org/simple, https://us-python.pkg.dev/colab-wheels/public/simple/\n",
            "Collecting tensorflow-gpu\n",
            "  Downloading tensorflow-gpu-2.12.0.tar.gz (2.6 kB)\n",
            "  \u001b[1;31merror\u001b[0m: \u001b[1msubprocess-exited-with-error\u001b[0m\n",
            "  \n",
            "  \u001b[31m×\u001b[0m \u001b[32mpython setup.py egg_info\u001b[0m did not run successfully.\n",
            "  \u001b[31m│\u001b[0m exit code: \u001b[1;36m1\u001b[0m\n",
            "  \u001b[31m╰─>\u001b[0m See above for output.\n",
            "  \n",
            "  \u001b[1;35mnote\u001b[0m: This error originates from a subprocess, and is likely not a problem with pip.\n",
            "  Preparing metadata (setup.py) ... \u001b[?25l\u001b[?25herror\n",
            "\u001b[1;31merror\u001b[0m: \u001b[1mmetadata-generation-failed\u001b[0m\n",
            "\n",
            "\u001b[31m×\u001b[0m Encountered error while generating package metadata.\n",
            "\u001b[31m╰─>\u001b[0m See above for output.\n",
            "\n",
            "\u001b[1;35mnote\u001b[0m: This is an issue with the package mentioned above, not pip.\n",
            "\u001b[1;36mhint\u001b[0m: See above for details.\n"
          ]
        }
      ],
      "source": [
        "!pip install tensorflow-gpu"
      ]
    },
    {
      "cell_type": "code",
      "execution_count": 1,
      "metadata": {
        "colab": {
          "base_uri": "https://localhost:8080/"
        },
        "id": "4bTRFNK57VLR",
        "outputId": "e2974b34-75de-4755-d77f-3d5ec32098bc"
      },
      "outputs": [
        {
          "output_type": "stream",
          "name": "stdout",
          "text": [
            "Mon Apr 17 11:44:10 2023       \n",
            "+-----------------------------------------------------------------------------+\n",
            "| NVIDIA-SMI 525.85.12    Driver Version: 525.85.12    CUDA Version: 12.0     |\n",
            "|-------------------------------+----------------------+----------------------+\n",
            "| GPU  Name        Persistence-M| Bus-Id        Disp.A | Volatile Uncorr. ECC |\n",
            "| Fan  Temp  Perf  Pwr:Usage/Cap|         Memory-Usage | GPU-Util  Compute M. |\n",
            "|                               |                      |               MIG M. |\n",
            "|===============================+======================+======================|\n",
            "|   0  Tesla T4            Off  | 00000000:00:04.0 Off |                    0 |\n",
            "| N/A   64C    P8    11W /  70W |      0MiB / 15360MiB |      0%      Default |\n",
            "|                               |                      |                  N/A |\n",
            "+-------------------------------+----------------------+----------------------+\n",
            "                                                                               \n",
            "+-----------------------------------------------------------------------------+\n",
            "| Processes:                                                                  |\n",
            "|  GPU   GI   CI        PID   Type   Process name                  GPU Memory |\n",
            "|        ID   ID                                                   Usage      |\n",
            "|=============================================================================|\n",
            "|  No running processes found                                                 |\n",
            "+-----------------------------------------------------------------------------+\n"
          ]
        }
      ],
      "source": [
        "!nvidia-smi"
      ]
    },
    {
      "cell_type": "code",
      "execution_count": 2,
      "metadata": {
        "id": "8oEK8sIZ7klk"
      },
      "outputs": [],
      "source": [
        "import tensorflow\n"
      ]
    },
    {
      "cell_type": "code",
      "execution_count": 3,
      "metadata": {
        "id": "jN2_ZWHs8FnK"
      },
      "outputs": [],
      "source": [
        "from tensorflow.keras.layers import Input,Lambda,Dense,Flatten\n",
        "from tensorflow.keras.models import Model\n",
        "from tensorflow.keras.applications.mobilenet import MobileNet\n",
        "from tensorflow.keras.applications.mobilenet import preprocess_input\n",
        "from tensorflow.keras.preprocessing import image\n",
        "from tensorflow.keras.preprocessing.image import ImageDataGenerator,load_img\n",
        "from tensorflow.keras.models import Sequential\n",
        "import numpy as np\n",
        "from glob import glob"
      ]
    },
    {
      "cell_type": "code",
      "execution_count": 4,
      "metadata": {
        "id": "mR4Er_B-_cgv"
      },
      "outputs": [],
      "source": [
        "IMAGE_SIZE=[224,224]\n",
        "train_path='/content/drive/MyDrive/combined data/data4(data in jpg+data2)/train'\n",
        "vlid_path='/content/drive/MyDrive/combined data/data4(data in jpg+data2)/validation'"
      ]
    },
    {
      "cell_type": "code",
      "execution_count": 5,
      "metadata": {
        "colab": {
          "base_uri": "https://localhost:8080/"
        },
        "id": "V-WSSsGxAxA_",
        "outputId": "8a6e9578-b63d-42b5-946f-7d3a10f4ab09"
      },
      "outputs": [
        {
          "output_type": "stream",
          "name": "stdout",
          "text": [
            "Downloading data from https://storage.googleapis.com/tensorflow/keras-applications/mobilenet/mobilenet_1_0_224_tf_no_top.h5\n",
            "17225924/17225924 [==============================] - 2s 0us/step\n"
          ]
        }
      ],
      "source": [
        "mobilenet=MobileNet(input_shape=IMAGE_SIZE +[3],weights='imagenet',include_top=False)"
      ]
    },
    {
      "cell_type": "code",
      "execution_count": 6,
      "metadata": {
        "id": "rarPZf_qCkYs"
      },
      "outputs": [],
      "source": [
        "for layer in mobilenet.layers:\n",
        "  layer.trainable=False"
      ]
    },
    {
      "cell_type": "code",
      "execution_count": 7,
      "metadata": {
        "id": "lH02NSrzUpjC"
      },
      "outputs": [],
      "source": [
        "folders=glob('/content/drive/MyDrive/combined data/data4(data in jpg+data2)/train/*')"
      ]
    },
    {
      "cell_type": "code",
      "execution_count": 8,
      "metadata": {
        "colab": {
          "base_uri": "https://localhost:8080/"
        },
        "id": "29wJoFS6C2jz",
        "outputId": "5b5e1338-d6c7-468d-b2b2-c0e121d38c52"
      },
      "outputs": [
        {
          "output_type": "execute_result",
          "data": {
            "text/plain": [
              "['/content/drive/MyDrive/combined data/data4(data in jpg+data2)/train/normal',\n",
              " '/content/drive/MyDrive/combined data/data4(data in jpg+data2)/train/leukumized']"
            ]
          },
          "metadata": {},
          "execution_count": 8
        }
      ],
      "source": [
        "folders"
      ]
    },
    {
      "cell_type": "code",
      "execution_count": 9,
      "metadata": {
        "id": "Ep2YxWMFC4bL"
      },
      "outputs": [],
      "source": [
        "x=Flatten()(mobilenet.output)"
      ]
    },
    {
      "cell_type": "code",
      "execution_count": 10,
      "metadata": {
        "id": "Vm-oLd_2DGQ8"
      },
      "outputs": [],
      "source": [
        "prediction=Dense(len(folders),activation='softmax')(x)"
      ]
    },
    {
      "cell_type": "code",
      "execution_count": 11,
      "metadata": {
        "colab": {
          "base_uri": "https://localhost:8080/"
        },
        "id": "PiTDRJq5DgKA",
        "outputId": "1ba5faaa-50d1-4139-c2b7-16bb9618fadc"
      },
      "outputs": [
        {
          "output_type": "stream",
          "name": "stdout",
          "text": [
            "Model: \"model\"\n",
            "_________________________________________________________________\n",
            " Layer (type)                Output Shape              Param #   \n",
            "=================================================================\n",
            " input_1 (InputLayer)        [(None, 224, 224, 3)]     0         \n",
            "                                                                 \n",
            " conv1 (Conv2D)              (None, 112, 112, 32)      864       \n",
            "                                                                 \n",
            " conv1_bn (BatchNormalizatio  (None, 112, 112, 32)     128       \n",
            " n)                                                              \n",
            "                                                                 \n",
            " conv1_relu (ReLU)           (None, 112, 112, 32)      0         \n",
            "                                                                 \n",
            " conv_dw_1 (DepthwiseConv2D)  (None, 112, 112, 32)     288       \n",
            "                                                                 \n",
            " conv_dw_1_bn (BatchNormaliz  (None, 112, 112, 32)     128       \n",
            " ation)                                                          \n",
            "                                                                 \n",
            " conv_dw_1_relu (ReLU)       (None, 112, 112, 32)      0         \n",
            "                                                                 \n",
            " conv_pw_1 (Conv2D)          (None, 112, 112, 64)      2048      \n",
            "                                                                 \n",
            " conv_pw_1_bn (BatchNormaliz  (None, 112, 112, 64)     256       \n",
            " ation)                                                          \n",
            "                                                                 \n",
            " conv_pw_1_relu (ReLU)       (None, 112, 112, 64)      0         \n",
            "                                                                 \n",
            " conv_pad_2 (ZeroPadding2D)  (None, 113, 113, 64)      0         \n",
            "                                                                 \n",
            " conv_dw_2 (DepthwiseConv2D)  (None, 56, 56, 64)       576       \n",
            "                                                                 \n",
            " conv_dw_2_bn (BatchNormaliz  (None, 56, 56, 64)       256       \n",
            " ation)                                                          \n",
            "                                                                 \n",
            " conv_dw_2_relu (ReLU)       (None, 56, 56, 64)        0         \n",
            "                                                                 \n",
            " conv_pw_2 (Conv2D)          (None, 56, 56, 128)       8192      \n",
            "                                                                 \n",
            " conv_pw_2_bn (BatchNormaliz  (None, 56, 56, 128)      512       \n",
            " ation)                                                          \n",
            "                                                                 \n",
            " conv_pw_2_relu (ReLU)       (None, 56, 56, 128)       0         \n",
            "                                                                 \n",
            " conv_dw_3 (DepthwiseConv2D)  (None, 56, 56, 128)      1152      \n",
            "                                                                 \n",
            " conv_dw_3_bn (BatchNormaliz  (None, 56, 56, 128)      512       \n",
            " ation)                                                          \n",
            "                                                                 \n",
            " conv_dw_3_relu (ReLU)       (None, 56, 56, 128)       0         \n",
            "                                                                 \n",
            " conv_pw_3 (Conv2D)          (None, 56, 56, 128)       16384     \n",
            "                                                                 \n",
            " conv_pw_3_bn (BatchNormaliz  (None, 56, 56, 128)      512       \n",
            " ation)                                                          \n",
            "                                                                 \n",
            " conv_pw_3_relu (ReLU)       (None, 56, 56, 128)       0         \n",
            "                                                                 \n",
            " conv_pad_4 (ZeroPadding2D)  (None, 57, 57, 128)       0         \n",
            "                                                                 \n",
            " conv_dw_4 (DepthwiseConv2D)  (None, 28, 28, 128)      1152      \n",
            "                                                                 \n",
            " conv_dw_4_bn (BatchNormaliz  (None, 28, 28, 128)      512       \n",
            " ation)                                                          \n",
            "                                                                 \n",
            " conv_dw_4_relu (ReLU)       (None, 28, 28, 128)       0         \n",
            "                                                                 \n",
            " conv_pw_4 (Conv2D)          (None, 28, 28, 256)       32768     \n",
            "                                                                 \n",
            " conv_pw_4_bn (BatchNormaliz  (None, 28, 28, 256)      1024      \n",
            " ation)                                                          \n",
            "                                                                 \n",
            " conv_pw_4_relu (ReLU)       (None, 28, 28, 256)       0         \n",
            "                                                                 \n",
            " conv_dw_5 (DepthwiseConv2D)  (None, 28, 28, 256)      2304      \n",
            "                                                                 \n",
            " conv_dw_5_bn (BatchNormaliz  (None, 28, 28, 256)      1024      \n",
            " ation)                                                          \n",
            "                                                                 \n",
            " conv_dw_5_relu (ReLU)       (None, 28, 28, 256)       0         \n",
            "                                                                 \n",
            " conv_pw_5 (Conv2D)          (None, 28, 28, 256)       65536     \n",
            "                                                                 \n",
            " conv_pw_5_bn (BatchNormaliz  (None, 28, 28, 256)      1024      \n",
            " ation)                                                          \n",
            "                                                                 \n",
            " conv_pw_5_relu (ReLU)       (None, 28, 28, 256)       0         \n",
            "                                                                 \n",
            " conv_pad_6 (ZeroPadding2D)  (None, 29, 29, 256)       0         \n",
            "                                                                 \n",
            " conv_dw_6 (DepthwiseConv2D)  (None, 14, 14, 256)      2304      \n",
            "                                                                 \n",
            " conv_dw_6_bn (BatchNormaliz  (None, 14, 14, 256)      1024      \n",
            " ation)                                                          \n",
            "                                                                 \n",
            " conv_dw_6_relu (ReLU)       (None, 14, 14, 256)       0         \n",
            "                                                                 \n",
            " conv_pw_6 (Conv2D)          (None, 14, 14, 512)       131072    \n",
            "                                                                 \n",
            " conv_pw_6_bn (BatchNormaliz  (None, 14, 14, 512)      2048      \n",
            " ation)                                                          \n",
            "                                                                 \n",
            " conv_pw_6_relu (ReLU)       (None, 14, 14, 512)       0         \n",
            "                                                                 \n",
            " conv_dw_7 (DepthwiseConv2D)  (None, 14, 14, 512)      4608      \n",
            "                                                                 \n",
            " conv_dw_7_bn (BatchNormaliz  (None, 14, 14, 512)      2048      \n",
            " ation)                                                          \n",
            "                                                                 \n",
            " conv_dw_7_relu (ReLU)       (None, 14, 14, 512)       0         \n",
            "                                                                 \n",
            " conv_pw_7 (Conv2D)          (None, 14, 14, 512)       262144    \n",
            "                                                                 \n",
            " conv_pw_7_bn (BatchNormaliz  (None, 14, 14, 512)      2048      \n",
            " ation)                                                          \n",
            "                                                                 \n",
            " conv_pw_7_relu (ReLU)       (None, 14, 14, 512)       0         \n",
            "                                                                 \n",
            " conv_dw_8 (DepthwiseConv2D)  (None, 14, 14, 512)      4608      \n",
            "                                                                 \n",
            " conv_dw_8_bn (BatchNormaliz  (None, 14, 14, 512)      2048      \n",
            " ation)                                                          \n",
            "                                                                 \n",
            " conv_dw_8_relu (ReLU)       (None, 14, 14, 512)       0         \n",
            "                                                                 \n",
            " conv_pw_8 (Conv2D)          (None, 14, 14, 512)       262144    \n",
            "                                                                 \n",
            " conv_pw_8_bn (BatchNormaliz  (None, 14, 14, 512)      2048      \n",
            " ation)                                                          \n",
            "                                                                 \n",
            " conv_pw_8_relu (ReLU)       (None, 14, 14, 512)       0         \n",
            "                                                                 \n",
            " conv_dw_9 (DepthwiseConv2D)  (None, 14, 14, 512)      4608      \n",
            "                                                                 \n",
            " conv_dw_9_bn (BatchNormaliz  (None, 14, 14, 512)      2048      \n",
            " ation)                                                          \n",
            "                                                                 \n",
            " conv_dw_9_relu (ReLU)       (None, 14, 14, 512)       0         \n",
            "                                                                 \n",
            " conv_pw_9 (Conv2D)          (None, 14, 14, 512)       262144    \n",
            "                                                                 \n",
            " conv_pw_9_bn (BatchNormaliz  (None, 14, 14, 512)      2048      \n",
            " ation)                                                          \n",
            "                                                                 \n",
            " conv_pw_9_relu (ReLU)       (None, 14, 14, 512)       0         \n",
            "                                                                 \n",
            " conv_dw_10 (DepthwiseConv2D  (None, 14, 14, 512)      4608      \n",
            " )                                                               \n",
            "                                                                 \n",
            " conv_dw_10_bn (BatchNormali  (None, 14, 14, 512)      2048      \n",
            " zation)                                                         \n",
            "                                                                 \n",
            " conv_dw_10_relu (ReLU)      (None, 14, 14, 512)       0         \n",
            "                                                                 \n",
            " conv_pw_10 (Conv2D)         (None, 14, 14, 512)       262144    \n",
            "                                                                 \n",
            " conv_pw_10_bn (BatchNormali  (None, 14, 14, 512)      2048      \n",
            " zation)                                                         \n",
            "                                                                 \n",
            " conv_pw_10_relu (ReLU)      (None, 14, 14, 512)       0         \n",
            "                                                                 \n",
            " conv_dw_11 (DepthwiseConv2D  (None, 14, 14, 512)      4608      \n",
            " )                                                               \n",
            "                                                                 \n",
            " conv_dw_11_bn (BatchNormali  (None, 14, 14, 512)      2048      \n",
            " zation)                                                         \n",
            "                                                                 \n",
            " conv_dw_11_relu (ReLU)      (None, 14, 14, 512)       0         \n",
            "                                                                 \n",
            " conv_pw_11 (Conv2D)         (None, 14, 14, 512)       262144    \n",
            "                                                                 \n",
            " conv_pw_11_bn (BatchNormali  (None, 14, 14, 512)      2048      \n",
            " zation)                                                         \n",
            "                                                                 \n",
            " conv_pw_11_relu (ReLU)      (None, 14, 14, 512)       0         \n",
            "                                                                 \n",
            " conv_pad_12 (ZeroPadding2D)  (None, 15, 15, 512)      0         \n",
            "                                                                 \n",
            " conv_dw_12 (DepthwiseConv2D  (None, 7, 7, 512)        4608      \n",
            " )                                                               \n",
            "                                                                 \n",
            " conv_dw_12_bn (BatchNormali  (None, 7, 7, 512)        2048      \n",
            " zation)                                                         \n",
            "                                                                 \n",
            " conv_dw_12_relu (ReLU)      (None, 7, 7, 512)         0         \n",
            "                                                                 \n",
            " conv_pw_12 (Conv2D)         (None, 7, 7, 1024)        524288    \n",
            "                                                                 \n",
            " conv_pw_12_bn (BatchNormali  (None, 7, 7, 1024)       4096      \n",
            " zation)                                                         \n",
            "                                                                 \n",
            " conv_pw_12_relu (ReLU)      (None, 7, 7, 1024)        0         \n",
            "                                                                 \n",
            " conv_dw_13 (DepthwiseConv2D  (None, 7, 7, 1024)       9216      \n",
            " )                                                               \n",
            "                                                                 \n",
            " conv_dw_13_bn (BatchNormali  (None, 7, 7, 1024)       4096      \n",
            " zation)                                                         \n",
            "                                                                 \n",
            " conv_dw_13_relu (ReLU)      (None, 7, 7, 1024)        0         \n",
            "                                                                 \n",
            " conv_pw_13 (Conv2D)         (None, 7, 7, 1024)        1048576   \n",
            "                                                                 \n",
            " conv_pw_13_bn (BatchNormali  (None, 7, 7, 1024)       4096      \n",
            " zation)                                                         \n",
            "                                                                 \n",
            " conv_pw_13_relu (ReLU)      (None, 7, 7, 1024)        0         \n",
            "                                                                 \n",
            " flatten (Flatten)           (None, 50176)             0         \n",
            "                                                                 \n",
            " dense (Dense)               (None, 2)                 100354    \n",
            "                                                                 \n",
            "=================================================================\n",
            "Total params: 3,329,218\n",
            "Trainable params: 100,354\n",
            "Non-trainable params: 3,228,864\n",
            "_________________________________________________________________\n"
          ]
        }
      ],
      "source": [
        "model=Model(inputs=mobilenet.input,outputs=prediction)\n",
        "model.summary()"
      ]
    },
    {
      "cell_type": "code",
      "execution_count": 12,
      "metadata": {
        "id": "VTFHxyZOEQu9"
      },
      "outputs": [],
      "source": [
        "model.compile(\n",
        "loss='categorical_crossentropy',\n",
        "optimizer='Adam',\n",
        "metrics=['accuracy']\n",
        ")"
      ]
    },
    {
      "cell_type": "code",
      "execution_count": 13,
      "metadata": {
        "id": "RTlB4ufXE1XZ"
      },
      "outputs": [],
      "source": [
        "from tensorflow.keras.preprocessing.image import ImageDataGenerator\n",
        "\n",
        "train_datagen=ImageDataGenerator(rescale=1/255,\n",
        "                                 shear_range=0.2,\n",
        "                                 zoom_range=0.2,\n",
        "                                 horizontal_flip=True)\n",
        "\n",
        "test_datagen=ImageDataGenerator(rescale=1/255)\n",
        "\n",
        "\n"
      ]
    },
    {
      "cell_type": "code",
      "execution_count": 14,
      "metadata": {
        "colab": {
          "base_uri": "https://localhost:8080/"
        },
        "id": "5cyhMNfyGCXy",
        "outputId": "3e4d1481-403d-43ee-ecf1-fd6ad9a45dbe"
      },
      "outputs": [
        {
          "output_type": "stream",
          "name": "stdout",
          "text": [
            "Found 368 images belonging to 2 classes.\n"
          ]
        }
      ],
      "source": [
        "training_set=train_datagen.flow_from_directory('/content/drive/MyDrive/combined data/data4(data in jpg+data2)/train',target_size=(224,224),\n",
        "                                               batch_size=32,\n",
        "                                               class_mode='categorical')"
      ]
    },
    {
      "cell_type": "code",
      "execution_count": 15,
      "metadata": {
        "colab": {
          "base_uri": "https://localhost:8080/"
        },
        "id": "dCsmPoCGHprM",
        "outputId": "fdf5d74a-e6c5-4497-c832-8c80911353cb"
      },
      "outputs": [
        {
          "output_type": "stream",
          "name": "stdout",
          "text": [
            "Found 36 images belonging to 2 classes.\n"
          ]
        }
      ],
      "source": [
        "test_set=test_datagen.flow_from_directory('/content/drive/MyDrive/combined data/data4(data in jpg+data2)/test',\n",
        "                                          target_size=(224,224),\n",
        "                                          batch_size=32,\n",
        "                                          class_mode='categorical')"
      ]
    },
    {
      "cell_type": "code",
      "execution_count": 16,
      "metadata": {
        "colab": {
          "base_uri": "https://localhost:8080/"
        },
        "id": "DHIo-O13nE3V",
        "outputId": "f9d7664e-af48-4209-f81f-8e8018a46e88"
      },
      "outputs": [
        {
          "output_type": "stream",
          "name": "stderr",
          "text": [
            "<ipython-input-16-640c2806a395>:1: UserWarning: `Model.fit_generator` is deprecated and will be removed in a future version. Please use `Model.fit`, which supports generators.\n",
            "  r = model.fit_generator(\n"
          ]
        },
        {
          "output_type": "stream",
          "name": "stdout",
          "text": [
            "Epoch 1/50\n",
            "12/12 [==============================] - 157s 12s/step - loss: 2.0544 - accuracy: 0.7228 - val_loss: 2.4620 - val_accuracy: 0.7222\n",
            "Epoch 2/50\n",
            "12/12 [==============================] - 15s 1s/step - loss: 0.7736 - accuracy: 0.8886 - val_loss: 0.9864 - val_accuracy: 0.8333\n",
            "Epoch 3/50\n",
            "12/12 [==============================] - 14s 1s/step - loss: 0.5610 - accuracy: 0.9402 - val_loss: 1.3394 - val_accuracy: 0.8889\n",
            "Epoch 4/50\n",
            "12/12 [==============================] - 16s 1s/step - loss: 0.5618 - accuracy: 0.9321 - val_loss: 0.4211 - val_accuracy: 0.9722\n",
            "Epoch 5/50\n",
            "12/12 [==============================] - 14s 1s/step - loss: 0.2547 - accuracy: 0.9565 - val_loss: 0.0673 - val_accuracy: 0.9722\n",
            "Epoch 6/50\n",
            "12/12 [==============================] - 15s 1s/step - loss: 0.1257 - accuracy: 0.9783 - val_loss: 0.0015 - val_accuracy: 1.0000\n",
            "Epoch 7/50\n",
            "12/12 [==============================] - 15s 1s/step - loss: 0.0715 - accuracy: 0.9891 - val_loss: 0.0015 - val_accuracy: 1.0000\n",
            "Epoch 8/50\n",
            "12/12 [==============================] - 15s 1s/step - loss: 0.0378 - accuracy: 0.9918 - val_loss: 7.5786e-05 - val_accuracy: 1.0000\n",
            "Epoch 9/50\n",
            "12/12 [==============================] - 15s 1s/step - loss: 0.1303 - accuracy: 0.9755 - val_loss: 0.0229 - val_accuracy: 0.9722\n",
            "Epoch 10/50\n",
            "12/12 [==============================] - 14s 1s/step - loss: 0.0451 - accuracy: 0.9891 - val_loss: 3.1894e-05 - val_accuracy: 1.0000\n",
            "Epoch 11/50\n",
            "12/12 [==============================] - 15s 1s/step - loss: 0.0278 - accuracy: 0.9891 - val_loss: 0.0488 - val_accuracy: 0.9722\n",
            "Epoch 12/50\n",
            "12/12 [==============================] - 15s 1s/step - loss: 0.1650 - accuracy: 0.9728 - val_loss: 3.0153e-04 - val_accuracy: 1.0000\n",
            "Epoch 13/50\n",
            "12/12 [==============================] - 14s 1s/step - loss: 5.4163e-04 - accuracy: 1.0000 - val_loss: 0.2618 - val_accuracy: 0.9722\n",
            "Epoch 14/50\n",
            "12/12 [==============================] - 14s 1s/step - loss: 0.0362 - accuracy: 0.9946 - val_loss: 4.7411e-04 - val_accuracy: 1.0000\n",
            "Epoch 15/50\n",
            "12/12 [==============================] - 14s 1s/step - loss: 0.0093 - accuracy: 0.9973 - val_loss: 1.7758e-04 - val_accuracy: 1.0000\n",
            "Epoch 16/50\n",
            "12/12 [==============================] - 14s 1s/step - loss: 0.0066 - accuracy: 0.9973 - val_loss: 0.1216 - val_accuracy: 0.9722\n",
            "Epoch 17/50\n",
            "12/12 [==============================] - 14s 1s/step - loss: 0.0625 - accuracy: 0.9946 - val_loss: 1.0743e-05 - val_accuracy: 1.0000\n",
            "Epoch 18/50\n",
            "12/12 [==============================] - 15s 1s/step - loss: 0.0561 - accuracy: 0.9918 - val_loss: 3.3114e-09 - val_accuracy: 1.0000\n",
            "Epoch 19/50\n",
            "12/12 [==============================] - 14s 1s/step - loss: 0.0127 - accuracy: 0.9973 - val_loss: 0.0000e+00 - val_accuracy: 1.0000\n",
            "Epoch 20/50\n",
            "12/12 [==============================] - 14s 1s/step - loss: 1.6815e-04 - accuracy: 1.0000 - val_loss: 2.6491e-08 - val_accuracy: 1.0000\n",
            "Epoch 21/50\n",
            "12/12 [==============================] - 16s 1s/step - loss: 0.0046 - accuracy: 0.9973 - val_loss: 3.3114e-09 - val_accuracy: 1.0000\n",
            "Epoch 22/50\n",
            "12/12 [==============================] - 14s 1s/step - loss: 0.0021 - accuracy: 1.0000 - val_loss: 6.6227e-09 - val_accuracy: 1.0000\n",
            "Epoch 23/50\n",
            "12/12 [==============================] - 14s 1s/step - loss: 0.0089 - accuracy: 0.9973 - val_loss: 3.3114e-09 - val_accuracy: 1.0000\n",
            "Epoch 24/50\n",
            "12/12 [==============================] - 14s 1s/step - loss: 0.0013 - accuracy: 1.0000 - val_loss: 3.3114e-09 - val_accuracy: 1.0000\n",
            "Epoch 25/50\n",
            "12/12 [==============================] - 14s 1s/step - loss: 1.0092e-05 - accuracy: 1.0000 - val_loss: 3.9736e-08 - val_accuracy: 1.0000\n",
            "Epoch 26/50\n",
            "12/12 [==============================] - 14s 1s/step - loss: 6.7209e-04 - accuracy: 1.0000 - val_loss: 3.6425e-08 - val_accuracy: 1.0000\n",
            "Epoch 27/50\n",
            "12/12 [==============================] - 15s 1s/step - loss: 8.1001e-06 - accuracy: 1.0000 - val_loss: 9.9341e-09 - val_accuracy: 1.0000\n",
            "Epoch 28/50\n",
            "12/12 [==============================] - 14s 1s/step - loss: 4.7340e-05 - accuracy: 1.0000 - val_loss: 6.6227e-09 - val_accuracy: 1.0000\n",
            "Epoch 29/50\n",
            "12/12 [==============================] - 15s 1s/step - loss: 3.4832e-04 - accuracy: 1.0000 - val_loss: 1.9868e-08 - val_accuracy: 1.0000\n",
            "Epoch 30/50\n",
            "12/12 [==============================] - 14s 1s/step - loss: 1.6045e-05 - accuracy: 1.0000 - val_loss: 3.3114e-08 - val_accuracy: 1.0000\n",
            "Epoch 31/50\n",
            "12/12 [==============================] - 14s 1s/step - loss: 1.7319e-05 - accuracy: 1.0000 - val_loss: 3.9736e-08 - val_accuracy: 1.0000\n",
            "Epoch 32/50\n",
            "12/12 [==============================] - 14s 1s/step - loss: 8.6651e-06 - accuracy: 1.0000 - val_loss: 4.3048e-08 - val_accuracy: 1.0000\n",
            "Epoch 33/50\n",
            "12/12 [==============================] - 14s 1s/step - loss: 8.7592e-06 - accuracy: 1.0000 - val_loss: 4.6359e-08 - val_accuracy: 1.0000\n",
            "Epoch 34/50\n",
            "12/12 [==============================] - 14s 1s/step - loss: 8.9836e-06 - accuracy: 1.0000 - val_loss: 4.6359e-08 - val_accuracy: 1.0000\n",
            "Epoch 35/50\n",
            "12/12 [==============================] - 15s 1s/step - loss: 0.0042 - accuracy: 0.9973 - val_loss: 6.6227e-09 - val_accuracy: 1.0000\n",
            "Epoch 36/50\n",
            "12/12 [==============================] - 15s 1s/step - loss: 2.5139e-04 - accuracy: 1.0000 - val_loss: 2.7020e-06 - val_accuracy: 1.0000\n",
            "Epoch 37/50\n",
            "12/12 [==============================] - 16s 1s/step - loss: 0.0062 - accuracy: 0.9973 - val_loss: 0.1022 - val_accuracy: 0.9722\n",
            "Epoch 38/50\n",
            "12/12 [==============================] - 14s 1s/step - loss: 0.0113 - accuracy: 0.9973 - val_loss: 4.6322e-06 - val_accuracy: 1.0000\n",
            "Epoch 39/50\n",
            "12/12 [==============================] - 14s 1s/step - loss: 7.6199e-04 - accuracy: 1.0000 - val_loss: 7.9203e-05 - val_accuracy: 1.0000\n",
            "Epoch 40/50\n",
            "12/12 [==============================] - 14s 1s/step - loss: 4.4797e-04 - accuracy: 1.0000 - val_loss: 2.4735e-06 - val_accuracy: 1.0000\n",
            "Epoch 41/50\n",
            "12/12 [==============================] - 14s 1s/step - loss: 0.0013 - accuracy: 1.0000 - val_loss: 0.0000e+00 - val_accuracy: 1.0000\n",
            "Epoch 42/50\n",
            "12/12 [==============================] - 14s 1s/step - loss: 4.4119e-07 - accuracy: 1.0000 - val_loss: 0.0000e+00 - val_accuracy: 1.0000\n",
            "Epoch 43/50\n",
            "12/12 [==============================] - 14s 1s/step - loss: 0.0110 - accuracy: 0.9973 - val_loss: 9.9341e-09 - val_accuracy: 1.0000\n",
            "Epoch 44/50\n",
            "12/12 [==============================] - 14s 1s/step - loss: 9.6139e-04 - accuracy: 1.0000 - val_loss: 0.0205 - val_accuracy: 0.9722\n",
            "Epoch 45/50\n",
            "12/12 [==============================] - 16s 1s/step - loss: 0.0163 - accuracy: 0.9946 - val_loss: 0.0000e+00 - val_accuracy: 1.0000\n",
            "Epoch 46/50\n",
            "12/12 [==============================] - 14s 1s/step - loss: 6.9539e-05 - accuracy: 1.0000 - val_loss: 1.9868e-07 - val_accuracy: 1.0000\n",
            "Epoch 47/50\n",
            "12/12 [==============================] - 14s 1s/step - loss: 3.3636e-05 - accuracy: 1.0000 - val_loss: 7.6823e-07 - val_accuracy: 1.0000\n",
            "Epoch 48/50\n",
            "12/12 [==============================] - 14s 1s/step - loss: 0.0015 - accuracy: 1.0000 - val_loss: 0.0000e+00 - val_accuracy: 1.0000\n",
            "Epoch 49/50\n",
            "12/12 [==============================] - 14s 1s/step - loss: 1.0229e-04 - accuracy: 1.0000 - val_loss: 3.3114e-09 - val_accuracy: 1.0000\n",
            "Epoch 50/50\n",
            "12/12 [==============================] - 15s 1s/step - loss: 0.0351 - accuracy: 0.9973 - val_loss: 4.4700e-04 - val_accuracy: 1.0000\n"
          ]
        }
      ],
      "source": [
        "r = model.fit_generator(\n",
        "    training_set,\n",
        "    validation_data=test_set,\n",
        "    epochs=50,\n",
        "    steps_per_epoch=len(training_set),\n",
        "    validation_steps=len(test_set)\n",
        ")"
      ]
    },
    {
      "cell_type": "code",
      "execution_count": 17,
      "metadata": {
        "id": "F_Naj129KDad",
        "colab": {
          "base_uri": "https://localhost:8080/",
          "height": 447
        },
        "outputId": "396969df-6a61-4db9-cdb5-8c5ca8189a94"
      },
      "outputs": [
        {
          "output_type": "display_data",
          "data": {
            "text/plain": [
              "<Figure size 640x480 with 1 Axes>"
            ],
            "image/png": "[encoded data removed]"
          },
          "metadata": {}
        },
        {
          "output_type": "display_data",
          "data": {
            "text/plain": [
              "<Figure size 640x480 with 0 Axes>"
            ]
          },
          "metadata": {}
        }
      ],
      "source": [
        "import matplotlib.pyplot as plt\n",
        "plt.plot(r.history['loss'],label='train_loss')\n",
        "plt.plot(r.history['val_loss'],label='val_loss')\n",
        "plt.legend()\n",
        "plt.show()\n",
        "plt.savefig('LossVal_loss')\n"
      ]
    },
    {
      "cell_type": "code",
      "execution_count": 18,
      "metadata": {
        "colab": {
          "base_uri": "https://localhost:8080/",
          "height": 447
        },
        "id": "oPubPUH5LXkW",
        "outputId": "77ff9d3a-3313-4cfb-ad06-10fbe0891026"
      },
      "outputs": [
        {
          "output_type": "display_data",
          "data": {
            "text/plain": [
              "<Figure size 640x480 with 1 Axes>"
            ],
            "image/png": "[encoded data removed]"
          },
          "metadata": {}
        },
        {
          "output_type": "display_data",
          "data": {
            "text/plain": [
              "<Figure size 640x480 with 0 Axes>"
            ]
          },
          "metadata": {}
        }
      ],
      "source": [
        "import matplotlib.pyplot as plt\n",
        "plt.plot(r.history['accuracy'],label='train_acc')\n",
        "plt.plot(r.history['val_accuracy'],label='val_acc')\n",
        "plt.legend()\n",
        "plt.show()\n",
        "plt.savefig('AccVal_acc')"
      ]
    },
    {
      "cell_type": "code",
      "source": [],
      "metadata": {
        "id": "TyscB0i08vj4"
      },
      "execution_count": null,
      "outputs": []
    }
  ],
  "metadata": {
    "colab": {
      "provenance": [],
      "mount_file_id": "1Hl9aEyKT7gb-E_ZeB3_SC5yKV892WQQS",
      "authorship_tag": "ABX9TyMK/9C6wQ8oGMXWQ8YW1LD/",
      "include_colab_link": true
    },
    "gpuClass": "standard",
    "kernelspec": {
      "display_name": "Python 3",
      "name": "python3"
    },
    "language_info": {
      "name": "python"
    },
    "accelerator": "GPU"
  },
  "nbformat": 4,
  "nbformat_minor": 0
}
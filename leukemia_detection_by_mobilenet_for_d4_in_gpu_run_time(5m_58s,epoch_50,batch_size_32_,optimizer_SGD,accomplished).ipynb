{
  "cells": [
    {
      "cell_type": "markdown",
      "metadata": {
        "id": "view-in-github",
        "colab_type": "text"
      },
      "source": [
        "<a href=\"https://colab.research.google.com/github/sol-ops/gpt3-leukemia-information-assistant/blob/main/leukemia_detection_by_mobilenet_for_d4_in_gpu_run_time(5m_58s%2Cepoch_50%2Cbatch_size_32_%2Coptimizer_SGD%2Caccomplished).ipynb\" target=\"_parent\"><img src=\"https://colab.research.google.com/assets/colab-badge.svg\" alt=\"Open In Colab\"/></a>"
      ]
    },
    {
      "cell_type": "code",
      "execution_count": null,
      "metadata": {
        "colab": {
          "base_uri": "https://localhost:8080/"
        },
        "id": "7lwXrCxm6SWh",
        "outputId": "4415e090-2d1c-4c5a-d842-7282d997088c"
      },
      "outputs": [
        {
          "output_type": "stream",
          "name": "stdout",
          "text": [
            "Looking in indexes: https://pypi.org/simple, https://us-python.pkg.dev/colab-wheels/public/simple/\n",
            "Collecting tensorflow-gpu\n",
            "  Downloading tensorflow-gpu-2.12.0.tar.gz (2.6 kB)\n",
            "  \u001b[1;31merror\u001b[0m: \u001b[1msubprocess-exited-with-error\u001b[0m\n",
            "  \n",
            "  \u001b[31m×\u001b[0m \u001b[32mpython setup.py egg_info\u001b[0m did not run successfully.\n",
            "  \u001b[31m│\u001b[0m exit code: \u001b[1;36m1\u001b[0m\n",
            "  \u001b[31m╰─>\u001b[0m See above for output.\n",
            "  \n",
            "  \u001b[1;35mnote\u001b[0m: This error originates from a subprocess, and is likely not a problem with pip.\n",
            "  Preparing metadata (setup.py) ... \u001b[?25l\u001b[?25herror\n",
            "\u001b[1;31merror\u001b[0m: \u001b[1mmetadata-generation-failed\u001b[0m\n",
            "\n",
            "\u001b[31m×\u001b[0m Encountered error while generating package metadata.\n",
            "\u001b[31m╰─>\u001b[0m See above for output.\n",
            "\n",
            "\u001b[1;35mnote\u001b[0m: This is an issue with the package mentioned above, not pip.\n",
            "\u001b[1;36mhint\u001b[0m: See above for details.\n"
          ]
        }
      ],
      "source": [
        "!pip install tensorflow-gpu"
      ]
    },
    {
      "cell_type": "code",
      "execution_count": null,
      "metadata": {
        "colab": {
          "base_uri": "https://localhost:8080/"
        },
        "id": "4bTRFNK57VLR",
        "outputId": "9aaf0396-568f-4ba6-8d74-10fbed4a9db3"
      },
      "outputs": [
        {
          "output_type": "stream",
          "name": "stdout",
          "text": [
            "Mon Apr 17 09:32:45 2023       \n",
            "+-----------------------------------------------------------------------------+\n",
            "| NVIDIA-SMI 525.85.12    Driver Version: 525.85.12    CUDA Version: 12.0     |\n",
            "|-------------------------------+----------------------+----------------------+\n",
            "| GPU  Name        Persistence-M| Bus-Id        Disp.A | Volatile Uncorr. ECC |\n",
            "| Fan  Temp  Perf  Pwr:Usage/Cap|         Memory-Usage | GPU-Util  Compute M. |\n",
            "|                               |                      |               MIG M. |\n",
            "|===============================+======================+======================|\n",
            "|   0  Tesla T4            Off  | 00000000:00:04.0 Off |                    0 |\n",
            "| N/A   63C    P8    12W /  70W |      0MiB / 15360MiB |      0%      Default |\n",
            "|                               |                      |                  N/A |\n",
            "+-------------------------------+----------------------+----------------------+\n",
            "                                                                               \n",
            "+-----------------------------------------------------------------------------+\n",
            "| Processes:                                                                  |\n",
            "|  GPU   GI   CI        PID   Type   Process name                  GPU Memory |\n",
            "|        ID   ID                                                   Usage      |\n",
            "|=============================================================================|\n",
            "|  No running processes found                                                 |\n",
            "+-----------------------------------------------------------------------------+\n"
          ]
        }
      ],
      "source": [
        "!nvidia-smi"
      ]
    },
    {
      "cell_type": "code",
      "execution_count": null,
      "metadata": {
        "id": "8oEK8sIZ7klk"
      },
      "outputs": [],
      "source": [
        "import tensorflow\n"
      ]
    },
    {
      "cell_type": "code",
      "execution_count": null,
      "metadata": {
        "id": "jN2_ZWHs8FnK"
      },
      "outputs": [],
      "source": [
        "from tensorflow.keras.layers import Input,Lambda,Dense,Flatten\n",
        "from tensorflow.keras.models import Model\n",
        "from tensorflow.keras.applications.mobilenet import MobileNet\n",
        "from tensorflow.keras.applications.mobilenet import preprocess_input\n",
        "from tensorflow.keras.preprocessing import image\n",
        "from tensorflow.keras.preprocessing.image import ImageDataGenerator,load_img\n",
        "from tensorflow.keras.models import Sequential\n",
        "import numpy as np\n",
        "from glob import glob"
      ]
    },
    {
      "cell_type": "code",
      "execution_count": null,
      "metadata": {
        "id": "mR4Er_B-_cgv"
      },
      "outputs": [],
      "source": [
        "IMAGE_SIZE=[224,224]\n",
        "train_path='/content/drive/MyDrive/combined data/data4(data in jpg+data2)/train'\n",
        "vlid_path='/content/drive/MyDrive/combined data/data4(data in jpg+data2)/validation'"
      ]
    },
    {
      "cell_type": "code",
      "execution_count": null,
      "metadata": {
        "colab": {
          "base_uri": "https://localhost:8080/"
        },
        "id": "V-WSSsGxAxA_",
        "outputId": "40196999-fbd0-46de-c3e0-c70893483cae"
      },
      "outputs": [
        {
          "output_type": "stream",
          "name": "stdout",
          "text": [
            "Downloading data from https://storage.googleapis.com/tensorflow/keras-applications/mobilenet/mobilenet_1_0_224_tf_no_top.h5\n",
            "17225924/17225924 [==============================] - 2s 0us/step\n"
          ]
        }
      ],
      "source": [
        "mobilenet=MobileNet(input_shape=IMAGE_SIZE +[3],weights='imagenet',include_top=False)"
      ]
    },
    {
      "cell_type": "code",
      "execution_count": null,
      "metadata": {
        "id": "rarPZf_qCkYs"
      },
      "outputs": [],
      "source": [
        "for layer in mobilenet.layers:\n",
        "  layer.trainable=False"
      ]
    },
    {
      "cell_type": "code",
      "execution_count": null,
      "metadata": {
        "id": "lH02NSrzUpjC"
      },
      "outputs": [],
      "source": [
        "folders=glob('/content/drive/MyDrive/combined data/data4(data in jpg+data2)/train/*')"
      ]
    },
    {
      "cell_type": "code",
      "execution_count": null,
      "metadata": {
        "colab": {
          "base_uri": "https://localhost:8080/"
        },
        "id": "29wJoFS6C2jz",
        "outputId": "73cd0371-4813-4202-b2d5-a3daf9ea9838"
      },
      "outputs": [
        {
          "output_type": "execute_result",
          "data": {
            "text/plain": [
              "['/content/drive/MyDrive/combined data/data4(data in jpg+data2)/train/normal',\n",
              " '/content/drive/MyDrive/combined data/data4(data in jpg+data2)/train/leukumized']"
            ]
          },
          "metadata": {},
          "execution_count": 9
        }
      ],
      "source": [
        "folders"
      ]
    },
    {
      "cell_type": "code",
      "execution_count": null,
      "metadata": {
        "id": "Ep2YxWMFC4bL"
      },
      "outputs": [],
      "source": [
        "x=Flatten()(mobilenet.output)"
      ]
    },
    {
      "cell_type": "code",
      "execution_count": null,
      "metadata": {
        "id": "Vm-oLd_2DGQ8"
      },
      "outputs": [],
      "source": [
        "prediction=Dense(len(folders),activation='softmax')(x)"
      ]
    },
    {
      "cell_type": "code",
      "execution_count": null,
      "metadata": {
        "colab": {
          "base_uri": "https://localhost:8080/"
        },
        "id": "PiTDRJq5DgKA",
        "outputId": "f3961a49-8ddc-42b9-d6af-88fd16b29496"
      },
      "outputs": [
        {
          "output_type": "stream",
          "name": "stdout",
          "text": [
            "Model: \"model\"\n",
            "_________________________________________________________________\n",
            " Layer (type)                Output Shape              Param #   \n",
            "=================================================================\n",
            " input_1 (InputLayer)        [(None, 224, 224, 3)]     0         \n",
            "                                                                 \n",
            " conv1 (Conv2D)              (None, 112, 112, 32)      864       \n",
            "                                                                 \n",
            " conv1_bn (BatchNormalizatio  (None, 112, 112, 32)     128       \n",
            " n)                                                              \n",
            "                                                                 \n",
            " conv1_relu (ReLU)           (None, 112, 112, 32)      0         \n",
            "                                                                 \n",
            " conv_dw_1 (DepthwiseConv2D)  (None, 112, 112, 32)     288       \n",
            "                                                                 \n",
            " conv_dw_1_bn (BatchNormaliz  (None, 112, 112, 32)     128       \n",
            " ation)                                                          \n",
            "                                                                 \n",
            " conv_dw_1_relu (ReLU)       (None, 112, 112, 32)      0         \n",
            "                                                                 \n",
            " conv_pw_1 (Conv2D)          (None, 112, 112, 64)      2048      \n",
            "                                                                 \n",
            " conv_pw_1_bn (BatchNormaliz  (None, 112, 112, 64)     256       \n",
            " ation)                                                          \n",
            "                                                                 \n",
            " conv_pw_1_relu (ReLU)       (None, 112, 112, 64)      0         \n",
            "                                                                 \n",
            " conv_pad_2 (ZeroPadding2D)  (None, 113, 113, 64)      0         \n",
            "                                                                 \n",
            " conv_dw_2 (DepthwiseConv2D)  (None, 56, 56, 64)       576       \n",
            "                                                                 \n",
            " conv_dw_2_bn (BatchNormaliz  (None, 56, 56, 64)       256       \n",
            " ation)                                                          \n",
            "                                                                 \n",
            " conv_dw_2_relu (ReLU)       (None, 56, 56, 64)        0         \n",
            "                                                                 \n",
            " conv_pw_2 (Conv2D)          (None, 56, 56, 128)       8192      \n",
            "                                                                 \n",
            " conv_pw_2_bn (BatchNormaliz  (None, 56, 56, 128)      512       \n",
            " ation)                                                          \n",
            "                                                                 \n",
            " conv_pw_2_relu (ReLU)       (None, 56, 56, 128)       0         \n",
            "                                                                 \n",
            " conv_dw_3 (DepthwiseConv2D)  (None, 56, 56, 128)      1152      \n",
            "                                                                 \n",
            " conv_dw_3_bn (BatchNormaliz  (None, 56, 56, 128)      512       \n",
            " ation)                                                          \n",
            "                                                                 \n",
            " conv_dw_3_relu (ReLU)       (None, 56, 56, 128)       0         \n",
            "                                                                 \n",
            " conv_pw_3 (Conv2D)          (None, 56, 56, 128)       16384     \n",
            "                                                                 \n",
            " conv_pw_3_bn (BatchNormaliz  (None, 56, 56, 128)      512       \n",
            " ation)                                                          \n",
            "                                                                 \n",
            " conv_pw_3_relu (ReLU)       (None, 56, 56, 128)       0         \n",
            "                                                                 \n",
            " conv_pad_4 (ZeroPadding2D)  (None, 57, 57, 128)       0         \n",
            "                                                                 \n",
            " conv_dw_4 (DepthwiseConv2D)  (None, 28, 28, 128)      1152      \n",
            "                                                                 \n",
            " conv_dw_4_bn (BatchNormaliz  (None, 28, 28, 128)      512       \n",
            " ation)                                                          \n",
            "                                                                 \n",
            " conv_dw_4_relu (ReLU)       (None, 28, 28, 128)       0         \n",
            "                                                                 \n",
            " conv_pw_4 (Conv2D)          (None, 28, 28, 256)       32768     \n",
            "                                                                 \n",
            " conv_pw_4_bn (BatchNormaliz  (None, 28, 28, 256)      1024      \n",
            " ation)                                                          \n",
            "                                                                 \n",
            " conv_pw_4_relu (ReLU)       (None, 28, 28, 256)       0         \n",
            "                                                                 \n",
            " conv_dw_5 (DepthwiseConv2D)  (None, 28, 28, 256)      2304      \n",
            "                                                                 \n",
            " conv_dw_5_bn (BatchNormaliz  (None, 28, 28, 256)      1024      \n",
            " ation)                                                          \n",
            "                                                                 \n",
            " conv_dw_5_relu (ReLU)       (None, 28, 28, 256)       0         \n",
            "                                                                 \n",
            " conv_pw_5 (Conv2D)          (None, 28, 28, 256)       65536     \n",
            "                                                                 \n",
            " conv_pw_5_bn (BatchNormaliz  (None, 28, 28, 256)      1024      \n",
            " ation)                                                          \n",
            "                                                                 \n",
            " conv_pw_5_relu (ReLU)       (None, 28, 28, 256)       0         \n",
            "                                                                 \n",
            " conv_pad_6 (ZeroPadding2D)  (None, 29, 29, 256)       0         \n",
            "                                                                 \n",
            " conv_dw_6 (DepthwiseConv2D)  (None, 14, 14, 256)      2304      \n",
            "                                                                 \n",
            " conv_dw_6_bn (BatchNormaliz  (None, 14, 14, 256)      1024      \n",
            " ation)                                                          \n",
            "                                                                 \n",
            " conv_dw_6_relu (ReLU)       (None, 14, 14, 256)       0         \n",
            "                                                                 \n",
            " conv_pw_6 (Conv2D)          (None, 14, 14, 512)       131072    \n",
            "                                                                 \n",
            " conv_pw_6_bn (BatchNormaliz  (None, 14, 14, 512)      2048      \n",
            " ation)                                                          \n",
            "                                                                 \n",
            " conv_pw_6_relu (ReLU)       (None, 14, 14, 512)       0         \n",
            "                                                                 \n",
            " conv_dw_7 (DepthwiseConv2D)  (None, 14, 14, 512)      4608      \n",
            "                                                                 \n",
            " conv_dw_7_bn (BatchNormaliz  (None, 14, 14, 512)      2048      \n",
            " ation)                                                          \n",
            "                                                                 \n",
            " conv_dw_7_relu (ReLU)       (None, 14, 14, 512)       0         \n",
            "                                                                 \n",
            " conv_pw_7 (Conv2D)          (None, 14, 14, 512)       262144    \n",
            "                                                                 \n",
            " conv_pw_7_bn (BatchNormaliz  (None, 14, 14, 512)      2048      \n",
            " ation)                                                          \n",
            "                                                                 \n",
            " conv_pw_7_relu (ReLU)       (None, 14, 14, 512)       0         \n",
            "                                                                 \n",
            " conv_dw_8 (DepthwiseConv2D)  (None, 14, 14, 512)      4608      \n",
            "                                                                 \n",
            " conv_dw_8_bn (BatchNormaliz  (None, 14, 14, 512)      2048      \n",
            " ation)                                                          \n",
            "                                                                 \n",
            " conv_dw_8_relu (ReLU)       (None, 14, 14, 512)       0         \n",
            "                                                                 \n",
            " conv_pw_8 (Conv2D)          (None, 14, 14, 512)       262144    \n",
            "                                                                 \n",
            " conv_pw_8_bn (BatchNormaliz  (None, 14, 14, 512)      2048      \n",
            " ation)                                                          \n",
            "                                                                 \n",
            " conv_pw_8_relu (ReLU)       (None, 14, 14, 512)       0         \n",
            "                                                                 \n",
            " conv_dw_9 (DepthwiseConv2D)  (None, 14, 14, 512)      4608      \n",
            "                                                                 \n",
            " conv_dw_9_bn (BatchNormaliz  (None, 14, 14, 512)      2048      \n",
            " ation)                                                          \n",
            "                                                                 \n",
            " conv_dw_9_relu (ReLU)       (None, 14, 14, 512)       0         \n",
            "                                                                 \n",
            " conv_pw_9 (Conv2D)          (None, 14, 14, 512)       262144    \n",
            "                                                                 \n",
            " conv_pw_9_bn (BatchNormaliz  (None, 14, 14, 512)      2048      \n",
            " ation)                                                          \n",
            "                                                                 \n",
            " conv_pw_9_relu (ReLU)       (None, 14, 14, 512)       0         \n",
            "                                                                 \n",
            " conv_dw_10 (DepthwiseConv2D  (None, 14, 14, 512)      4608      \n",
            " )                                                               \n",
            "                                                                 \n",
            " conv_dw_10_bn (BatchNormali  (None, 14, 14, 512)      2048      \n",
            " zation)                                                         \n",
            "                                                                 \n",
            " conv_dw_10_relu (ReLU)      (None, 14, 14, 512)       0         \n",
            "                                                                 \n",
            " conv_pw_10 (Conv2D)         (None, 14, 14, 512)       262144    \n",
            "                                                                 \n",
            " conv_pw_10_bn (BatchNormali  (None, 14, 14, 512)      2048      \n",
            " zation)                                                         \n",
            "                                                                 \n",
            " conv_pw_10_relu (ReLU)      (None, 14, 14, 512)       0         \n",
            "                                                                 \n",
            " conv_dw_11 (DepthwiseConv2D  (None, 14, 14, 512)      4608      \n",
            " )                                                               \n",
            "                                                                 \n",
            " conv_dw_11_bn (BatchNormali  (None, 14, 14, 512)      2048      \n",
            " zation)                                                         \n",
            "                                                                 \n",
            " conv_dw_11_relu (ReLU)      (None, 14, 14, 512)       0         \n",
            "                                                                 \n",
            " conv_pw_11 (Conv2D)         (None, 14, 14, 512)       262144    \n",
            "                                                                 \n",
            " conv_pw_11_bn (BatchNormali  (None, 14, 14, 512)      2048      \n",
            " zation)                                                         \n",
            "                                                                 \n",
            " conv_pw_11_relu (ReLU)      (None, 14, 14, 512)       0         \n",
            "                                                                 \n",
            " conv_pad_12 (ZeroPadding2D)  (None, 15, 15, 512)      0         \n",
            "                                                                 \n",
            " conv_dw_12 (DepthwiseConv2D  (None, 7, 7, 512)        4608      \n",
            " )                                                               \n",
            "                                                                 \n",
            " conv_dw_12_bn (BatchNormali  (None, 7, 7, 512)        2048      \n",
            " zation)                                                         \n",
            "                                                                 \n",
            " conv_dw_12_relu (ReLU)      (None, 7, 7, 512)         0         \n",
            "                                                                 \n",
            " conv_pw_12 (Conv2D)         (None, 7, 7, 1024)        524288    \n",
            "                                                                 \n",
            " conv_pw_12_bn (BatchNormali  (None, 7, 7, 1024)       4096      \n",
            " zation)                                                         \n",
            "                                                                 \n",
            " conv_pw_12_relu (ReLU)      (None, 7, 7, 1024)        0         \n",
            "                                                                 \n",
            " conv_dw_13 (DepthwiseConv2D  (None, 7, 7, 1024)       9216      \n",
            " )                                                               \n",
            "                                                                 \n",
            " conv_dw_13_bn (BatchNormali  (None, 7, 7, 1024)       4096      \n",
            " zation)                                                         \n",
            "                                                                 \n",
            " conv_dw_13_relu (ReLU)      (None, 7, 7, 1024)        0         \n",
            "                                                                 \n",
            " conv_pw_13 (Conv2D)         (None, 7, 7, 1024)        1048576   \n",
            "                                                                 \n",
            " conv_pw_13_bn (BatchNormali  (None, 7, 7, 1024)       4096      \n",
            " zation)                                                         \n",
            "                                                                 \n",
            " conv_pw_13_relu (ReLU)      (None, 7, 7, 1024)        0         \n",
            "                                                                 \n",
            " flatten (Flatten)           (None, 50176)             0         \n",
            "                                                                 \n",
            " dense (Dense)               (None, 2)                 100354    \n",
            "                                                                 \n",
            "=================================================================\n",
            "Total params: 3,329,218\n",
            "Trainable params: 100,354\n",
            "Non-trainable params: 3,228,864\n",
            "_________________________________________________________________\n"
          ]
        }
      ],
      "source": [
        "model=Model(inputs=mobilenet.input,outputs=prediction)\n",
        "model.summary()"
      ]
    },
    {
      "cell_type": "code",
      "execution_count": null,
      "metadata": {
        "id": "VTFHxyZOEQu9"
      },
      "outputs": [],
      "source": [
        "model.compile(\n",
        "loss='categorical_crossentropy',\n",
        "optimizer='SGD',\n",
        "metrics=['accuracy']\n",
        ")"
      ]
    },
    {
      "cell_type": "code",
      "execution_count": null,
      "metadata": {
        "id": "RTlB4ufXE1XZ"
      },
      "outputs": [],
      "source": [
        "from tensorflow.keras.preprocessing.image import ImageDataGenerator\n",
        "\n",
        "train_datagen=ImageDataGenerator(rescale=1/255,\n",
        "                                 shear_range=0.2,\n",
        "                                 zoom_range=0.2,\n",
        "                                 horizontal_flip=True)\n",
        "\n",
        "test_datagen=ImageDataGenerator(rescale=1/255)\n",
        "\n",
        "\n"
      ]
    },
    {
      "cell_type": "code",
      "execution_count": null,
      "metadata": {
        "colab": {
          "base_uri": "https://localhost:8080/"
        },
        "id": "5cyhMNfyGCXy",
        "outputId": "c2a5a910-0e53-4d25-85f8-35cd331030f6"
      },
      "outputs": [
        {
          "output_type": "stream",
          "name": "stdout",
          "text": [
            "Found 368 images belonging to 2 classes.\n"
          ]
        }
      ],
      "source": [
        "training_set=train_datagen.flow_from_directory('/content/drive/MyDrive/combined data/data4(data in jpg+data2)/train',target_size=(224,224),\n",
        "                                               batch_size=32,\n",
        "                                               class_mode='categorical')"
      ]
    },
    {
      "cell_type": "code",
      "execution_count": null,
      "metadata": {
        "colab": {
          "base_uri": "https://localhost:8080/"
        },
        "id": "dCsmPoCGHprM",
        "outputId": "29042d1e-6438-4487-fcd7-9db04fb19458"
      },
      "outputs": [
        {
          "output_type": "stream",
          "name": "stdout",
          "text": [
            "Found 36 images belonging to 2 classes.\n"
          ]
        }
      ],
      "source": [
        "test_set=test_datagen.flow_from_directory('/content/drive/MyDrive/combined data/data4(data in jpg+data2)/test',\n",
        "                                          target_size=(224,224),\n",
        "                                          batch_size=16,\n",
        "                                          class_mode='categorical')"
      ]
    },
    {
      "cell_type": "code",
      "execution_count": null,
      "metadata": {
        "colab": {
          "base_uri": "https://localhost:8080/"
        },
        "id": "DHIo-O13nE3V",
        "outputId": "ba54dd84-5b81-46cf-e345-8a8451c1b654"
      },
      "outputs": [
        {
          "output_type": "stream",
          "name": "stderr",
          "text": [
            "<ipython-input-58-640c2806a395>:1: UserWarning: `Model.fit_generator` is deprecated and will be removed in a future version. Please use `Model.fit`, which supports generators.\n",
            "  r = model.fit_generator(\n"
          ]
        },
        {
          "output_type": "stream",
          "name": "stdout",
          "text": [
            "Epoch 1/50\n",
            "12/12 [==============================] - 16s 1s/step - loss: 3.3463e-06 - accuracy: 1.0000 - val_loss: 5.8241e-06 - val_accuracy: 1.0000\n",
            "Epoch 2/50\n",
            "12/12 [==============================] - 15s 1s/step - loss: 0.0218 - accuracy: 0.9946 - val_loss: 5.6652e-06 - val_accuracy: 1.0000\n",
            "Epoch 3/50\n",
            "12/12 [==============================] - 15s 1s/step - loss: 2.9275e-05 - accuracy: 1.0000 - val_loss: 5.1553e-06 - val_accuracy: 1.0000\n",
            "Epoch 4/50\n",
            "12/12 [==============================] - 14s 1s/step - loss: 1.9634e-06 - accuracy: 1.0000 - val_loss: 5.1222e-06 - val_accuracy: 1.0000\n",
            "Epoch 5/50\n",
            "12/12 [==============================] - 16s 1s/step - loss: 0.0022 - accuracy: 0.9973 - val_loss: 3.3114e-09 - val_accuracy: 1.0000\n",
            "Epoch 6/50\n",
            "12/12 [==============================] - 14s 1s/step - loss: 5.2249e-07 - accuracy: 1.0000 - val_loss: 3.3114e-09 - val_accuracy: 1.0000\n",
            "Epoch 7/50\n",
            "12/12 [==============================] - 15s 1s/step - loss: 0.0093 - accuracy: 0.9973 - val_loss: 4.0829e-05 - val_accuracy: 1.0000\n",
            "Epoch 8/50\n",
            "12/12 [==============================] - 15s 1s/step - loss: 1.4289e-04 - accuracy: 1.0000 - val_loss: 1.9823e-05 - val_accuracy: 1.0000\n",
            "Epoch 9/50\n",
            "12/12 [==============================] - 14s 1s/step - loss: 5.9960e-04 - accuracy: 1.0000 - val_loss: 2.9668e-06 - val_accuracy: 1.0000\n",
            "Epoch 10/50\n",
            "12/12 [==============================] - 14s 1s/step - loss: 5.6591e-05 - accuracy: 1.0000 - val_loss: 2.3708e-06 - val_accuracy: 1.0000\n",
            "Epoch 11/50\n",
            "12/12 [==============================] - 14s 1s/step - loss: 1.3123e-05 - accuracy: 1.0000 - val_loss: 2.2483e-06 - val_accuracy: 1.0000\n",
            "Epoch 12/50\n",
            "12/12 [==============================] - 15s 1s/step - loss: 9.3942e-09 - accuracy: 1.0000 - val_loss: 2.2483e-06 - val_accuracy: 1.0000\n",
            "Epoch 13/50\n",
            "12/12 [==============================] - 15s 1s/step - loss: 0.0012 - accuracy: 1.0000 - val_loss: 5.9605e-08 - val_accuracy: 1.0000\n",
            "Epoch 14/50\n",
            "12/12 [==============================] - 15s 1s/step - loss: 1.2634e-08 - accuracy: 1.0000 - val_loss: 5.9605e-08 - val_accuracy: 1.0000\n",
            "Epoch 15/50\n",
            "12/12 [==============================] - 15s 1s/step - loss: 2.0051e-07 - accuracy: 1.0000 - val_loss: 5.9605e-08 - val_accuracy: 1.0000\n",
            "Epoch 16/50\n",
            "12/12 [==============================] - 15s 1s/step - loss: 3.2394e-09 - accuracy: 1.0000 - val_loss: 5.9605e-08 - val_accuracy: 1.0000\n",
            "Epoch 17/50\n",
            "12/12 [==============================] - 15s 1s/step - loss: 4.8591e-09 - accuracy: 1.0000 - val_loss: 5.9605e-08 - val_accuracy: 1.0000\n",
            "Epoch 18/50\n",
            "12/12 [==============================] - 14s 1s/step - loss: 1.3830e-05 - accuracy: 1.0000 - val_loss: 6.2916e-08 - val_accuracy: 1.0000\n",
            "Epoch 19/50\n",
            "12/12 [==============================] - 14s 1s/step - loss: 3.3385e-05 - accuracy: 1.0000 - val_loss: 6.9539e-08 - val_accuracy: 1.0000\n",
            "Epoch 20/50\n",
            "12/12 [==============================] - 14s 1s/step - loss: 3.7898e-07 - accuracy: 1.0000 - val_loss: 6.9539e-08 - val_accuracy: 1.0000\n",
            "Epoch 21/50\n",
            "12/12 [==============================] - 15s 1s/step - loss: 4.3083e-08 - accuracy: 1.0000 - val_loss: 6.9539e-08 - val_accuracy: 1.0000\n",
            "Epoch 22/50\n",
            "12/12 [==============================] - 15s 1s/step - loss: 9.2645e-08 - accuracy: 1.0000 - val_loss: 6.9539e-08 - val_accuracy: 1.0000\n",
            "Epoch 23/50\n",
            "12/12 [==============================] - 16s 1s/step - loss: 2.6594e-07 - accuracy: 1.0000 - val_loss: 6.9539e-08 - val_accuracy: 1.0000\n",
            "Epoch 24/50\n",
            "12/12 [==============================] - 14s 1s/step - loss: 7.0618e-08 - accuracy: 1.0000 - val_loss: 6.9539e-08 - val_accuracy: 1.0000\n",
            "Epoch 25/50\n",
            "12/12 [==============================] - 14s 1s/step - loss: 1.0541e-05 - accuracy: 1.0000 - val_loss: 6.6227e-08 - val_accuracy: 1.0000\n",
            "Epoch 26/50\n",
            "12/12 [==============================] - 14s 1s/step - loss: 4.3536e-07 - accuracy: 1.0000 - val_loss: 6.6227e-08 - val_accuracy: 1.0000\n",
            "Epoch 27/50\n",
            "12/12 [==============================] - 14s 1s/step - loss: 6.5111e-08 - accuracy: 1.0000 - val_loss: 6.9539e-08 - val_accuracy: 1.0000\n",
            "Epoch 28/50\n",
            "12/12 [==============================] - 14s 1s/step - loss: 1.0190e-06 - accuracy: 1.0000 - val_loss: 6.9539e-08 - val_accuracy: 1.0000\n",
            "Epoch 29/50\n",
            "12/12 [==============================] - 14s 1s/step - loss: 2.3822e-06 - accuracy: 1.0000 - val_loss: 6.9539e-08 - val_accuracy: 1.0000\n",
            "Epoch 30/50\n",
            "12/12 [==============================] - 15s 1s/step - loss: 3.2394e-10 - accuracy: 1.0000 - val_loss: 6.9539e-08 - val_accuracy: 1.0000\n",
            "Epoch 31/50\n",
            "12/12 [==============================] - 16s 1s/step - loss: 3.5633e-09 - accuracy: 1.0000 - val_loss: 6.9539e-08 - val_accuracy: 1.0000\n",
            "Epoch 32/50\n",
            "12/12 [==============================] - 14s 1s/step - loss: 1.6197e-09 - accuracy: 1.0000 - val_loss: 6.9539e-08 - val_accuracy: 1.0000\n",
            "Epoch 33/50\n",
            "12/12 [==============================] - 15s 1s/step - loss: 1.1595e-06 - accuracy: 1.0000 - val_loss: 6.9539e-08 - val_accuracy: 1.0000\n",
            "Epoch 34/50\n",
            "12/12 [==============================] - 15s 1s/step - loss: 1.7395e-07 - accuracy: 1.0000 - val_loss: 6.9539e-08 - val_accuracy: 1.0000\n",
            "Epoch 35/50\n",
            "12/12 [==============================] - 15s 1s/step - loss: 2.0084e-07 - accuracy: 1.0000 - val_loss: 6.9539e-08 - val_accuracy: 1.0000\n",
            "Epoch 36/50\n",
            "12/12 [==============================] - 14s 1s/step - loss: 1.0139e-07 - accuracy: 1.0000 - val_loss: 6.9539e-08 - val_accuracy: 1.0000\n",
            "Epoch 37/50\n",
            "12/12 [==============================] - 15s 1s/step - loss: 0.0054 - accuracy: 0.9946 - val_loss: 4.6359e-08 - val_accuracy: 1.0000\n",
            "Epoch 38/50\n",
            "12/12 [==============================] - 15s 1s/step - loss: 2.0796e-07 - accuracy: 1.0000 - val_loss: 4.6359e-08 - val_accuracy: 1.0000\n",
            "Epoch 39/50\n",
            "12/12 [==============================] - 14s 1s/step - loss: 3.0301e-05 - accuracy: 1.0000 - val_loss: 3.9736e-08 - val_accuracy: 1.0000\n",
            "Epoch 40/50\n",
            "12/12 [==============================] - 16s 1s/step - loss: 1.0014e-04 - accuracy: 1.0000 - val_loss: 5.6293e-08 - val_accuracy: 1.0000\n",
            "Epoch 41/50\n",
            "12/12 [==============================] - 15s 1s/step - loss: 2.2676e-09 - accuracy: 1.0000 - val_loss: 5.6293e-08 - val_accuracy: 1.0000\n",
            "Epoch 42/50\n",
            "12/12 [==============================] - 15s 1s/step - loss: 1.2958e-09 - accuracy: 1.0000 - val_loss: 5.6293e-08 - val_accuracy: 1.0000\n",
            "Epoch 43/50\n",
            "12/12 [==============================] - 15s 1s/step - loss: 2.8045e-06 - accuracy: 1.0000 - val_loss: 5.6293e-08 - val_accuracy: 1.0000\n",
            "Epoch 44/50\n",
            "12/12 [==============================] - 15s 1s/step - loss: 1.3071e-06 - accuracy: 1.0000 - val_loss: 5.6293e-08 - val_accuracy: 1.0000\n",
            "Epoch 45/50\n",
            "12/12 [==============================] - 15s 1s/step - loss: 1.0949e-07 - accuracy: 1.0000 - val_loss: 5.6293e-08 - val_accuracy: 1.0000\n",
            "Epoch 46/50\n",
            "12/12 [==============================] - 14s 1s/step - loss: 6.4788e-10 - accuracy: 1.0000 - val_loss: 5.6293e-08 - val_accuracy: 1.0000\n",
            "Epoch 47/50\n",
            "12/12 [==============================] - 15s 1s/step - loss: 0.0000e+00 - accuracy: 1.0000 - val_loss: 5.6293e-08 - val_accuracy: 1.0000\n",
            "Epoch 48/50\n",
            "12/12 [==============================] - 15s 1s/step - loss: 6.6197e-06 - accuracy: 1.0000 - val_loss: 5.6293e-08 - val_accuracy: 1.0000\n",
            "Epoch 49/50\n",
            "12/12 [==============================] - 15s 1s/step - loss: 0.0000e+00 - accuracy: 1.0000 - val_loss: 5.6293e-08 - val_accuracy: 1.0000\n",
            "Epoch 50/50\n",
            "12/12 [==============================] - 15s 1s/step - loss: 3.8089e-06 - accuracy: 1.0000 - val_loss: 5.6293e-08 - val_accuracy: 1.0000\n"
          ]
        }
      ],
      "source": [
        "r = model.fit_generator(\n",
        "    training_set,\n",
        "    validation_data=test_set,\n",
        "    epochs=50,\n",
        "    steps_per_epoch=len(training_set),\n",
        "    validation_steps=len(test_set)\n",
        ")"
      ]
    },
    {
      "cell_type": "code",
      "execution_count": 60,
      "metadata": {
        "id": "F_Naj129KDad",
        "colab": {
          "base_uri": "https://localhost:8080/",
          "height": 447
        },
        "outputId": "486a6ef0-738e-4871-fc84-a8c60092779c"
      },
      "outputs": [
        {
          "output_type": "display_data",
          "data": {
            "text/plain": [
              "<Figure size 640x480 with 1 Axes>"
            ],
            "image/png": "[encoded data removed]"
          },
          "metadata": {}
        },
        {
          "output_type": "display_data",
          "data": {
            "text/plain": [
              "<Figure size 640x480 with 0 Axes>"
            ]
          },
          "metadata": {}
        }
      ],
      "source": [
        "import matplotlib.pyplot as plt\n",
        "plt.plot(r.history['loss'],label='train_loss')\n",
        "plt.plot(r.history['val_loss'],label='val_loss')\n",
        "plt.legend()\n",
        "plt.show()\n",
        "plt.savefig('LossVal_loss')\n"
      ]
    },
    {
      "cell_type": "code",
      "execution_count": 61,
      "metadata": {
        "colab": {
          "base_uri": "https://localhost:8080/",
          "height": 447
        },
        "id": "oPubPUH5LXkW",
        "outputId": "f883c849-5e5c-4d67-ed53-c1a788151274"
      },
      "outputs": [
        {
          "output_type": "display_data",
          "data": {
            "text/plain": [
              "<Figure size 640x480 with 1 Axes>"
            ],
            "image/png": "[encoded data removed]"
          },
          "metadata": {}
        },
        {
          "output_type": "display_data",
          "data": {
            "text/plain": [
              "<Figure size 640x480 with 0 Axes>"
            ]
          },
          "metadata": {}
        }
      ],
      "source": [
        "import matplotlib.pyplot as plt\n",
        "plt.plot(r.history['accuracy'],label='train_acc')\n",
        "plt.plot(r.history['val_accuracy'],label='val_acc')\n",
        "plt.legend()\n",
        "plt.show()\n",
        "plt.savefig('AccVal_acc')"
      ]
    },
    {
      "cell_type": "code",
      "source": [],
      "metadata": {
        "id": "TyscB0i08vj4"
      },
      "execution_count": null,
      "outputs": []
    }
  ],
  "metadata": {
    "colab": {
      "provenance": [],
      "mount_file_id": "1Hl9aEyKT7gb-E_ZeB3_SC5yKV892WQQS",
      "authorship_tag": "ABX9TyMeSPxIEmqhWim4Evfi6eNV",
      "include_colab_link": true
    },
    "gpuClass": "standard",
    "kernelspec": {
      "display_name": "Python 3",
      "name": "python3"
    },
    "language_info": {
      "name": "python"
    },
    "accelerator": "GPU"
  },
  "nbformat": 4,
  "nbformat_minor": 0
}
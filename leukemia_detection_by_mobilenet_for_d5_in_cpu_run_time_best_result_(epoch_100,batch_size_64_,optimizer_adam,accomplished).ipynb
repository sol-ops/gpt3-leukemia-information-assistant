{
  "cells": [
    {
      "cell_type": "markdown",
      "metadata": {
        "id": "view-in-github",
        "colab_type": "text"
      },
      "source": [
        "<a href=\"https://colab.research.google.com/github/sol-ops/gpt3-leukemia-information-assistant/blob/main/leukemia_detection_by_mobilenet_for_d5_in_cpu_run_time_best_result_(epoch_100%2Cbatch_size_64_%2Coptimizer_adam%2Caccomplished).ipynb\" target=\"_parent\"><img src=\"https://colab.research.google.com/assets/colab-badge.svg\" alt=\"Open In Colab\"/></a>"
      ]
    },
    {
      "cell_type": "code",
      "execution_count": 48,
      "metadata": {
        "colab": {
          "base_uri": "https://localhost:8080/"
        },
        "id": "7lwXrCxm6SWh",
        "outputId": "aca160ad-6b2d-4d8c-d8dd-dc7c8bde0710"
      },
      "outputs": [
        {
          "output_type": "stream",
          "name": "stdout",
          "text": [
            "Looking in indexes: https://pypi.org/simple, https://us-python.pkg.dev/colab-wheels/public/simple/\n",
            "Collecting tensorflow-gpu\n",
            "  Using cached tensorflow-gpu-2.12.0.tar.gz (2.6 kB)\n",
            "  \u001b[1;31merror\u001b[0m: \u001b[1msubprocess-exited-with-error\u001b[0m\n",
            "  \n",
            "  \u001b[31m×\u001b[0m \u001b[32mpython setup.py egg_info\u001b[0m did not run successfully.\n",
            "  \u001b[31m│\u001b[0m exit code: \u001b[1;36m1\u001b[0m\n",
            "  \u001b[31m╰─>\u001b[0m See above for output.\n",
            "  \n",
            "  \u001b[1;35mnote\u001b[0m: This error originates from a subprocess, and is likely not a problem with pip.\n",
            "  Preparing metadata (setup.py) ... \u001b[?25l\u001b[?25herror\n",
            "\u001b[1;31merror\u001b[0m: \u001b[1mmetadata-generation-failed\u001b[0m\n",
            "\n",
            "\u001b[31m×\u001b[0m Encountered error while generating package metadata.\n",
            "\u001b[31m╰─>\u001b[0m See above for output.\n",
            "\n",
            "\u001b[1;35mnote\u001b[0m: This is an issue with the package mentioned above, not pip.\n",
            "\u001b[1;36mhint\u001b[0m: See above for details.\n"
          ]
        }
      ],
      "source": [
        "!pip install tensorflow-gpu"
      ]
    },
    {
      "cell_type": "code",
      "execution_count": 49,
      "metadata": {
        "colab": {
          "base_uri": "https://localhost:8080/"
        },
        "id": "4bTRFNK57VLR",
        "outputId": "b063c112-6a62-45b5-9a6d-5b5a2e4b080a"
      },
      "outputs": [
        {
          "output_type": "stream",
          "name": "stdout",
          "text": [
            "Thu Apr 20 09:03:34 2023       \n",
            "+-----------------------------------------------------------------------------+\n",
            "| NVIDIA-SMI 525.85.12    Driver Version: 525.85.12    CUDA Version: 12.0     |\n",
            "|-------------------------------+----------------------+----------------------+\n",
            "| GPU  Name        Persistence-M| Bus-Id        Disp.A | Volatile Uncorr. ECC |\n",
            "| Fan  Temp  Perf  Pwr:Usage/Cap|         Memory-Usage | GPU-Util  Compute M. |\n",
            "|                               |                      |               MIG M. |\n",
            "|===============================+======================+======================|\n",
            "|   0  Tesla T4            Off  | 00000000:00:04.0 Off |                    0 |\n",
            "| N/A   71C    P0    32W /  70W |   6983MiB / 15360MiB |      0%      Default |\n",
            "|                               |                      |                  N/A |\n",
            "+-------------------------------+----------------------+----------------------+\n",
            "                                                                               \n",
            "+-----------------------------------------------------------------------------+\n",
            "| Processes:                                                                  |\n",
            "|  GPU   GI   CI        PID   Type   Process name                  GPU Memory |\n",
            "|        ID   ID                                                   Usage      |\n",
            "|=============================================================================|\n",
            "+-----------------------------------------------------------------------------+\n"
          ]
        }
      ],
      "source": [
        "!nvidia-smi"
      ]
    },
    {
      "cell_type": "code",
      "execution_count": 50,
      "metadata": {
        "id": "8oEK8sIZ7klk"
      },
      "outputs": [],
      "source": [
        "import tensorflow\n"
      ]
    },
    {
      "cell_type": "code",
      "execution_count": 51,
      "metadata": {
        "id": "jN2_ZWHs8FnK"
      },
      "outputs": [],
      "source": [
        "from tensorflow.keras.layers import Input,Lambda,Dense,Flatten\n",
        "from tensorflow.keras.models import Model\n",
        "from tensorflow.keras.applications.mobilenet import MobileNet\n",
        "from tensorflow.keras.applications.mobilenet import preprocess_input\n",
        "from tensorflow.keras.preprocessing import image\n",
        "from tensorflow.keras.preprocessing.image import ImageDataGenerator,load_img\n",
        "from tensorflow.keras.models import Sequential\n",
        "import numpy as np\n",
        "from glob import glob\n",
        "import sklearn as sk\n",
        "import seaborn as sns"
      ]
    },
    {
      "cell_type": "code",
      "execution_count": 52,
      "metadata": {
        "id": "mR4Er_B-_cgv"
      },
      "outputs": [],
      "source": [
        "IMAGE_SIZE=[224,224]\n",
        "train_path='/content/drive/MyDrive/Colab Notebooks/data5/train'\n",
        "vlid_path='/content/drive/MyDrive/Colab Notebooks/data5/validation'"
      ]
    },
    {
      "cell_type": "code",
      "execution_count": 53,
      "metadata": {
        "id": "V-WSSsGxAxA_"
      },
      "outputs": [],
      "source": [
        "mobilenet=MobileNet(input_shape=IMAGE_SIZE +[3],weights='imagenet',include_top=False)"
      ]
    },
    {
      "cell_type": "code",
      "execution_count": 54,
      "metadata": {
        "id": "rarPZf_qCkYs"
      },
      "outputs": [],
      "source": [
        "for layer in mobilenet.layers:\n",
        "  layer.trainable=False"
      ]
    },
    {
      "cell_type": "code",
      "execution_count": 55,
      "metadata": {
        "id": "lH02NSrzUpjC"
      },
      "outputs": [],
      "source": [
        "folders=glob('/content/drive/MyDrive/Colab Notebooks/data5/train/*')"
      ]
    },
    {
      "cell_type": "code",
      "execution_count": 56,
      "metadata": {
        "colab": {
          "base_uri": "https://localhost:8080/"
        },
        "id": "29wJoFS6C2jz",
        "outputId": "f6de0040-b444-4ac5-e472-bab7d2a5d484"
      },
      "outputs": [
        {
          "output_type": "execute_result",
          "data": {
            "text/plain": [
              "['/content/drive/MyDrive/Colab Notebooks/data5/train/normal',\n",
              " '/content/drive/MyDrive/Colab Notebooks/data5/train/leukumized']"
            ]
          },
          "metadata": {},
          "execution_count": 56
        }
      ],
      "source": [
        "folders"
      ]
    },
    {
      "cell_type": "code",
      "execution_count": 57,
      "metadata": {
        "id": "Ep2YxWMFC4bL"
      },
      "outputs": [],
      "source": [
        "x=Flatten()(mobilenet.output)"
      ]
    },
    {
      "cell_type": "code",
      "execution_count": 58,
      "metadata": {
        "id": "Vm-oLd_2DGQ8"
      },
      "outputs": [],
      "source": [
        "prediction=Dense(len(folders),activation='softmax')(x)"
      ]
    },
    {
      "cell_type": "code",
      "execution_count": 59,
      "metadata": {
        "colab": {
          "base_uri": "https://localhost:8080/"
        },
        "id": "PiTDRJq5DgKA",
        "outputId": "fb8758cc-99d6-407d-8202-d541fd8ff78a"
      },
      "outputs": [
        {
          "output_type": "stream",
          "name": "stdout",
          "text": [
            "Model: \"model_4\"\n",
            "_________________________________________________________________\n",
            " Layer (type)                Output Shape              Param #   \n",
            "=================================================================\n",
            " input_3 (InputLayer)        [(None, 224, 224, 3)]     0         \n",
            "                                                                 \n",
            " conv1 (Conv2D)              (None, 112, 112, 32)      864       \n",
            "                                                                 \n",
            " conv1_bn (BatchNormalizatio  (None, 112, 112, 32)     128       \n",
            " n)                                                              \n",
            "                                                                 \n",
            " conv1_relu (ReLU)           (None, 112, 112, 32)      0         \n",
            "                                                                 \n",
            " conv_dw_1 (DepthwiseConv2D)  (None, 112, 112, 32)     288       \n",
            "                                                                 \n",
            " conv_dw_1_bn (BatchNormaliz  (None, 112, 112, 32)     128       \n",
            " ation)                                                          \n",
            "                                                                 \n",
            " conv_dw_1_relu (ReLU)       (None, 112, 112, 32)      0         \n",
            "                                                                 \n",
            " conv_pw_1 (Conv2D)          (None, 112, 112, 64)      2048      \n",
            "                                                                 \n",
            " conv_pw_1_bn (BatchNormaliz  (None, 112, 112, 64)     256       \n",
            " ation)                                                          \n",
            "                                                                 \n",
            " conv_pw_1_relu (ReLU)       (None, 112, 112, 64)      0         \n",
            "                                                                 \n",
            " conv_pad_2 (ZeroPadding2D)  (None, 113, 113, 64)      0         \n",
            "                                                                 \n",
            " conv_dw_2 (DepthwiseConv2D)  (None, 56, 56, 64)       576       \n",
            "                                                                 \n",
            " conv_dw_2_bn (BatchNormaliz  (None, 56, 56, 64)       256       \n",
            " ation)                                                          \n",
            "                                                                 \n",
            " conv_dw_2_relu (ReLU)       (None, 56, 56, 64)        0         \n",
            "                                                                 \n",
            " conv_pw_2 (Conv2D)          (None, 56, 56, 128)       8192      \n",
            "                                                                 \n",
            " conv_pw_2_bn (BatchNormaliz  (None, 56, 56, 128)      512       \n",
            " ation)                                                          \n",
            "                                                                 \n",
            " conv_pw_2_relu (ReLU)       (None, 56, 56, 128)       0         \n",
            "                                                                 \n",
            " conv_dw_3 (DepthwiseConv2D)  (None, 56, 56, 128)      1152      \n",
            "                                                                 \n",
            " conv_dw_3_bn (BatchNormaliz  (None, 56, 56, 128)      512       \n",
            " ation)                                                          \n",
            "                                                                 \n",
            " conv_dw_3_relu (ReLU)       (None, 56, 56, 128)       0         \n",
            "                                                                 \n",
            " conv_pw_3 (Conv2D)          (None, 56, 56, 128)       16384     \n",
            "                                                                 \n",
            " conv_pw_3_bn (BatchNormaliz  (None, 56, 56, 128)      512       \n",
            " ation)                                                          \n",
            "                                                                 \n",
            " conv_pw_3_relu (ReLU)       (None, 56, 56, 128)       0         \n",
            "                                                                 \n",
            " conv_pad_4 (ZeroPadding2D)  (None, 57, 57, 128)       0         \n",
            "                                                                 \n",
            " conv_dw_4 (DepthwiseConv2D)  (None, 28, 28, 128)      1152      \n",
            "                                                                 \n",
            " conv_dw_4_bn (BatchNormaliz  (None, 28, 28, 128)      512       \n",
            " ation)                                                          \n",
            "                                                                 \n",
            " conv_dw_4_relu (ReLU)       (None, 28, 28, 128)       0         \n",
            "                                                                 \n",
            " conv_pw_4 (Conv2D)          (None, 28, 28, 256)       32768     \n",
            "                                                                 \n",
            " conv_pw_4_bn (BatchNormaliz  (None, 28, 28, 256)      1024      \n",
            " ation)                                                          \n",
            "                                                                 \n",
            " conv_pw_4_relu (ReLU)       (None, 28, 28, 256)       0         \n",
            "                                                                 \n",
            " conv_dw_5 (DepthwiseConv2D)  (None, 28, 28, 256)      2304      \n",
            "                                                                 \n",
            " conv_dw_5_bn (BatchNormaliz  (None, 28, 28, 256)      1024      \n",
            " ation)                                                          \n",
            "                                                                 \n",
            " conv_dw_5_relu (ReLU)       (None, 28, 28, 256)       0         \n",
            "                                                                 \n",
            " conv_pw_5 (Conv2D)          (None, 28, 28, 256)       65536     \n",
            "                                                                 \n",
            " conv_pw_5_bn (BatchNormaliz  (None, 28, 28, 256)      1024      \n",
            " ation)                                                          \n",
            "                                                                 \n",
            " conv_pw_5_relu (ReLU)       (None, 28, 28, 256)       0         \n",
            "                                                                 \n",
            " conv_pad_6 (ZeroPadding2D)  (None, 29, 29, 256)       0         \n",
            "                                                                 \n",
            " conv_dw_6 (DepthwiseConv2D)  (None, 14, 14, 256)      2304      \n",
            "                                                                 \n",
            " conv_dw_6_bn (BatchNormaliz  (None, 14, 14, 256)      1024      \n",
            " ation)                                                          \n",
            "                                                                 \n",
            " conv_dw_6_relu (ReLU)       (None, 14, 14, 256)       0         \n",
            "                                                                 \n",
            " conv_pw_6 (Conv2D)          (None, 14, 14, 512)       131072    \n",
            "                                                                 \n",
            " conv_pw_6_bn (BatchNormaliz  (None, 14, 14, 512)      2048      \n",
            " ation)                                                          \n",
            "                                                                 \n",
            " conv_pw_6_relu (ReLU)       (None, 14, 14, 512)       0         \n",
            "                                                                 \n",
            " conv_dw_7 (DepthwiseConv2D)  (None, 14, 14, 512)      4608      \n",
            "                                                                 \n",
            " conv_dw_7_bn (BatchNormaliz  (None, 14, 14, 512)      2048      \n",
            " ation)                                                          \n",
            "                                                                 \n",
            " conv_dw_7_relu (ReLU)       (None, 14, 14, 512)       0         \n",
            "                                                                 \n",
            " conv_pw_7 (Conv2D)          (None, 14, 14, 512)       262144    \n",
            "                                                                 \n",
            " conv_pw_7_bn (BatchNormaliz  (None, 14, 14, 512)      2048      \n",
            " ation)                                                          \n",
            "                                                                 \n",
            " conv_pw_7_relu (ReLU)       (None, 14, 14, 512)       0         \n",
            "                                                                 \n",
            " conv_dw_8 (DepthwiseConv2D)  (None, 14, 14, 512)      4608      \n",
            "                                                                 \n",
            " conv_dw_8_bn (BatchNormaliz  (None, 14, 14, 512)      2048      \n",
            " ation)                                                          \n",
            "                                                                 \n",
            " conv_dw_8_relu (ReLU)       (None, 14, 14, 512)       0         \n",
            "                                                                 \n",
            " conv_pw_8 (Conv2D)          (None, 14, 14, 512)       262144    \n",
            "                                                                 \n",
            " conv_pw_8_bn (BatchNormaliz  (None, 14, 14, 512)      2048      \n",
            " ation)                                                          \n",
            "                                                                 \n",
            " conv_pw_8_relu (ReLU)       (None, 14, 14, 512)       0         \n",
            "                                                                 \n",
            " conv_dw_9 (DepthwiseConv2D)  (None, 14, 14, 512)      4608      \n",
            "                                                                 \n",
            " conv_dw_9_bn (BatchNormaliz  (None, 14, 14, 512)      2048      \n",
            " ation)                                                          \n",
            "                                                                 \n",
            " conv_dw_9_relu (ReLU)       (None, 14, 14, 512)       0         \n",
            "                                                                 \n",
            " conv_pw_9 (Conv2D)          (None, 14, 14, 512)       262144    \n",
            "                                                                 \n",
            " conv_pw_9_bn (BatchNormaliz  (None, 14, 14, 512)      2048      \n",
            " ation)                                                          \n",
            "                                                                 \n",
            " conv_pw_9_relu (ReLU)       (None, 14, 14, 512)       0         \n",
            "                                                                 \n",
            " conv_dw_10 (DepthwiseConv2D  (None, 14, 14, 512)      4608      \n",
            " )                                                               \n",
            "                                                                 \n",
            " conv_dw_10_bn (BatchNormali  (None, 14, 14, 512)      2048      \n",
            " zation)                                                         \n",
            "                                                                 \n",
            " conv_dw_10_relu (ReLU)      (None, 14, 14, 512)       0         \n",
            "                                                                 \n",
            " conv_pw_10 (Conv2D)         (None, 14, 14, 512)       262144    \n",
            "                                                                 \n",
            " conv_pw_10_bn (BatchNormali  (None, 14, 14, 512)      2048      \n",
            " zation)                                                         \n",
            "                                                                 \n",
            " conv_pw_10_relu (ReLU)      (None, 14, 14, 512)       0         \n",
            "                                                                 \n",
            " conv_dw_11 (DepthwiseConv2D  (None, 14, 14, 512)      4608      \n",
            " )                                                               \n",
            "                                                                 \n",
            " conv_dw_11_bn (BatchNormali  (None, 14, 14, 512)      2048      \n",
            " zation)                                                         \n",
            "                                                                 \n",
            " conv_dw_11_relu (ReLU)      (None, 14, 14, 512)       0         \n",
            "                                                                 \n",
            " conv_pw_11 (Conv2D)         (None, 14, 14, 512)       262144    \n",
            "                                                                 \n",
            " conv_pw_11_bn (BatchNormali  (None, 14, 14, 512)      2048      \n",
            " zation)                                                         \n",
            "                                                                 \n",
            " conv_pw_11_relu (ReLU)      (None, 14, 14, 512)       0         \n",
            "                                                                 \n",
            " conv_pad_12 (ZeroPadding2D)  (None, 15, 15, 512)      0         \n",
            "                                                                 \n",
            " conv_dw_12 (DepthwiseConv2D  (None, 7, 7, 512)        4608      \n",
            " )                                                               \n",
            "                                                                 \n",
            " conv_dw_12_bn (BatchNormali  (None, 7, 7, 512)        2048      \n",
            " zation)                                                         \n",
            "                                                                 \n",
            " conv_dw_12_relu (ReLU)      (None, 7, 7, 512)         0         \n",
            "                                                                 \n",
            " conv_pw_12 (Conv2D)         (None, 7, 7, 1024)        524288    \n",
            "                                                                 \n",
            " conv_pw_12_bn (BatchNormali  (None, 7, 7, 1024)       4096      \n",
            " zation)                                                         \n",
            "                                                                 \n",
            " conv_pw_12_relu (ReLU)      (None, 7, 7, 1024)        0         \n",
            "                                                                 \n",
            " conv_dw_13 (DepthwiseConv2D  (None, 7, 7, 1024)       9216      \n",
            " )                                                               \n",
            "                                                                 \n",
            " conv_dw_13_bn (BatchNormali  (None, 7, 7, 1024)       4096      \n",
            " zation)                                                         \n",
            "                                                                 \n",
            " conv_dw_13_relu (ReLU)      (None, 7, 7, 1024)        0         \n",
            "                                                                 \n",
            " conv_pw_13 (Conv2D)         (None, 7, 7, 1024)        1048576   \n",
            "                                                                 \n",
            " conv_pw_13_bn (BatchNormali  (None, 7, 7, 1024)       4096      \n",
            " zation)                                                         \n",
            "                                                                 \n",
            " conv_pw_13_relu (ReLU)      (None, 7, 7, 1024)        0         \n",
            "                                                                 \n",
            " flatten_2 (Flatten)         (None, 50176)             0         \n",
            "                                                                 \n",
            " dense_2 (Dense)             (None, 2)                 100354    \n",
            "                                                                 \n",
            "=================================================================\n",
            "Total params: 3,329,218\n",
            "Trainable params: 100,354\n",
            "Non-trainable params: 3,228,864\n",
            "_________________________________________________________________\n"
          ]
        }
      ],
      "source": [
        "model=Model(inputs=mobilenet.input,outputs=prediction)\n",
        "model.summary()"
      ]
    },
    {
      "cell_type": "code",
      "execution_count": 60,
      "metadata": {
        "id": "VTFHxyZOEQu9"
      },
      "outputs": [],
      "source": [
        "model.compile(\n",
        "loss='categorical_crossentropy',\n",
        "optimizer='adam',\n",
        "metrics=['accuracy']\n",
        ")"
      ]
    },
    {
      "cell_type": "code",
      "execution_count": 62,
      "metadata": {
        "id": "RTlB4ufXE1XZ"
      },
      "outputs": [],
      "source": [
        "from tensorflow.keras.preprocessing.image import ImageDataGenerator\n",
        "\n",
        "train_datagen=ImageDataGenerator(rescale=1/255,\n",
        "                                 shear_range=0.2,\n",
        "                                 zoom_range=0.2,\n",
        "                                 horizontal_flip=True)\n",
        "\n",
        "test_datagen=ImageDataGenerator(rescale=1/255)\n",
        "\n",
        "\n"
      ]
    },
    {
      "cell_type": "code",
      "execution_count": 63,
      "metadata": {
        "colab": {
          "base_uri": "https://localhost:8080/"
        },
        "id": "5cyhMNfyGCXy",
        "outputId": "ef4c7273-bc23-4b9d-e3e0-3316f7be3549"
      },
      "outputs": [
        {
          "output_type": "stream",
          "name": "stdout",
          "text": [
            "Found 648 images belonging to 2 classes.\n"
          ]
        }
      ],
      "source": [
        "training_set=train_datagen.flow_from_directory('/content/drive/MyDrive/Colab Notebooks/data5/train',target_size=(224,224),\n",
        "                                               batch_size=64,\n",
        "                                               class_mode='categorical')"
      ]
    },
    {
      "cell_type": "code",
      "execution_count": 64,
      "metadata": {
        "colab": {
          "base_uri": "https://localhost:8080/"
        },
        "id": "dCsmPoCGHprM",
        "outputId": "e4f7e215-d808-4c77-b133-0774e31a3346"
      },
      "outputs": [
        {
          "output_type": "stream",
          "name": "stdout",
          "text": [
            "Found 78 images belonging to 2 classes.\n"
          ]
        }
      ],
      "source": [
        "test_set=test_datagen.flow_from_directory('/content/drive/MyDrive/Colab Notebooks/data5/test',\n",
        "                                          target_size=(224,224),\n",
        "                                          batch_size=64,\n",
        "                                          class_mode='categorical')"
      ]
    },
    {
      "cell_type": "code",
      "execution_count": 65,
      "metadata": {
        "colab": {
          "base_uri": "https://localhost:8080/"
        },
        "id": "DHIo-O13nE3V",
        "outputId": "e02f3999-caf8-4bc1-a6d8-6bd98f9301a8"
      },
      "outputs": [
        {
          "metadata": {
            "tags": null
          },
          "name": "stderr",
          "output_type": "stream",
          "text": [
            "<ipython-input-65-8d15e5d402af>:1: UserWarning: `Model.fit_generator` is deprecated and will be removed in a future version. Please use `Model.fit`, which supports generators.\n",
            "  r = model.fit_generator(\n"
          ]
        },
        {
          "output_type": "stream",
          "name": "stdout",
          "text": [
            "Epoch 1/100\n",
            "11/11 [==============================] - 23s 2s/step - loss: 0.8929 - accuracy: 0.8318 - val_loss: 0.5210 - val_accuracy: 0.9487\n",
            "Epoch 2/100\n",
            "11/11 [==============================] - 19s 2s/step - loss: 0.3498 - accuracy: 0.9460 - val_loss: 0.0253 - val_accuracy: 0.9872\n",
            "Epoch 3/100\n",
            "11/11 [==============================] - 19s 2s/step - loss: 0.2358 - accuracy: 0.9522 - val_loss: 0.0277 - val_accuracy: 0.9872\n",
            "Epoch 4/100\n",
            "11/11 [==============================] - 20s 2s/step - loss: 0.1578 - accuracy: 0.9753 - val_loss: 0.1139 - val_accuracy: 0.9487\n",
            "Epoch 5/100\n",
            "11/11 [==============================] - 19s 2s/step - loss: 0.1278 - accuracy: 0.9846 - val_loss: 0.0082 - val_accuracy: 1.0000\n",
            "Epoch 6/100\n",
            "11/11 [==============================] - 19s 2s/step - loss: 0.0733 - accuracy: 0.9830 - val_loss: 0.0016 - val_accuracy: 1.0000\n",
            "Epoch 7/100\n",
            "11/11 [==============================] - 19s 2s/step - loss: 0.0582 - accuracy: 0.9892 - val_loss: 3.6888e-06 - val_accuracy: 1.0000\n",
            "Epoch 8/100\n",
            "11/11 [==============================] - 19s 2s/step - loss: 0.0125 - accuracy: 0.9954 - val_loss: 5.4157e-06 - val_accuracy: 1.0000\n",
            "Epoch 9/100\n",
            "11/11 [==============================] - 20s 2s/step - loss: 0.0183 - accuracy: 0.9954 - val_loss: 2.7711e-05 - val_accuracy: 1.0000\n",
            "Epoch 10/100\n",
            "11/11 [==============================] - 19s 2s/step - loss: 0.0225 - accuracy: 0.9938 - val_loss: 3.3940e-06 - val_accuracy: 1.0000\n",
            "Epoch 11/100\n",
            "11/11 [==============================] - 18s 2s/step - loss: 0.0043 - accuracy: 0.9985 - val_loss: 4.8295e-07 - val_accuracy: 1.0000\n",
            "Epoch 12/100\n",
            "11/11 [==============================] - 19s 2s/step - loss: 3.3154e-05 - accuracy: 1.0000 - val_loss: 5.3338e-07 - val_accuracy: 1.0000\n",
            "Epoch 13/100\n",
            "11/11 [==============================] - 20s 2s/step - loss: 3.0532e-04 - accuracy: 1.0000 - val_loss: 3.8055e-07 - val_accuracy: 1.0000\n",
            "Epoch 14/100\n",
            "11/11 [==============================] - 18s 2s/step - loss: 0.0044 - accuracy: 0.9985 - val_loss: 3.8208e-04 - val_accuracy: 1.0000\n",
            "Epoch 15/100\n",
            "11/11 [==============================] - 19s 2s/step - loss: 0.0248 - accuracy: 0.9954 - val_loss: 0.0035 - val_accuracy: 1.0000\n",
            "Epoch 16/100\n",
            "11/11 [==============================] - 18s 2s/step - loss: 0.0076 - accuracy: 0.9969 - val_loss: 0.0107 - val_accuracy: 0.9872\n",
            "Epoch 17/100\n",
            "11/11 [==============================] - 19s 2s/step - loss: 0.0025 - accuracy: 0.9985 - val_loss: 1.1416e-06 - val_accuracy: 1.0000\n",
            "Epoch 18/100\n",
            "11/11 [==============================] - 18s 2s/step - loss: 0.0024 - accuracy: 0.9985 - val_loss: 2.5523e-07 - val_accuracy: 1.0000\n",
            "Epoch 19/100\n",
            "11/11 [==============================] - 20s 2s/step - loss: 0.0056 - accuracy: 0.9985 - val_loss: 6.9534e-06 - val_accuracy: 1.0000\n",
            "Epoch 20/100\n",
            "11/11 [==============================] - 18s 2s/step - loss: 0.0394 - accuracy: 0.9938 - val_loss: 4.0250e-06 - val_accuracy: 1.0000\n",
            "Epoch 21/100\n",
            "11/11 [==============================] - 19s 2s/step - loss: 2.7838e-05 - accuracy: 1.0000 - val_loss: 2.3473e-06 - val_accuracy: 1.0000\n",
            "Epoch 22/100\n",
            "11/11 [==============================] - 18s 2s/step - loss: 0.0015 - accuracy: 0.9985 - val_loss: 1.5650e-06 - val_accuracy: 1.0000\n",
            "Epoch 23/100\n",
            "11/11 [==============================] - 19s 2s/step - loss: 5.2633e-04 - accuracy: 1.0000 - val_loss: 6.5793e-05 - val_accuracy: 1.0000\n",
            "Epoch 24/100\n",
            "11/11 [==============================] - 18s 2s/step - loss: 0.0020 - accuracy: 0.9985 - val_loss: 2.1319e-06 - val_accuracy: 1.0000\n",
            "Epoch 25/100\n",
            "11/11 [==============================] - 19s 2s/step - loss: 0.0246 - accuracy: 0.9923 - val_loss: 0.0013 - val_accuracy: 1.0000\n",
            "Epoch 26/100\n",
            "11/11 [==============================] - 19s 2s/step - loss: 0.0197 - accuracy: 0.9969 - val_loss: 0.0035 - val_accuracy: 1.0000\n",
            "Epoch 27/100\n",
            "11/11 [==============================] - 18s 2s/step - loss: 0.0091 - accuracy: 0.9985 - val_loss: 8.4422e-06 - val_accuracy: 1.0000\n",
            "Epoch 28/100\n",
            "11/11 [==============================] - 18s 2s/step - loss: 0.0101 - accuracy: 0.9985 - val_loss: 4.8885e-05 - val_accuracy: 1.0000\n",
            "Epoch 29/100\n",
            "11/11 [==============================] - 19s 2s/step - loss: 0.0086 - accuracy: 0.9969 - val_loss: 3.4179e-04 - val_accuracy: 1.0000\n",
            "Epoch 30/100\n",
            "11/11 [==============================] - 18s 2s/step - loss: 0.0038 - accuracy: 0.9985 - val_loss: 1.0270e-06 - val_accuracy: 1.0000\n",
            "Epoch 31/100\n",
            "11/11 [==============================] - 20s 2s/step - loss: 0.0109 - accuracy: 0.9969 - val_loss: 2.9038e-08 - val_accuracy: 1.0000\n",
            "Epoch 32/100\n",
            "11/11 [==============================] - 18s 2s/step - loss: 0.0057 - accuracy: 0.9954 - val_loss: 3.6374e-07 - val_accuracy: 1.0000\n",
            "Epoch 33/100\n",
            "11/11 [==============================] - 19s 2s/step - loss: 0.0235 - accuracy: 0.9954 - val_loss: 4.8883e-06 - val_accuracy: 1.0000\n",
            "Epoch 34/100\n",
            "11/11 [==============================] - 18s 2s/step - loss: 0.0242 - accuracy: 0.9923 - val_loss: 0.0108 - val_accuracy: 0.9872\n",
            "Epoch 35/100\n",
            "11/11 [==============================] - 19s 2s/step - loss: 0.0196 - accuracy: 0.9969 - val_loss: 3.5845e-04 - val_accuracy: 1.0000\n",
            "Epoch 36/100\n",
            "11/11 [==============================] - 18s 2s/step - loss: 0.0154 - accuracy: 0.9954 - val_loss: 9.8416e-04 - val_accuracy: 1.0000\n",
            "Epoch 37/100\n",
            "11/11 [==============================] - 19s 2s/step - loss: 0.0248 - accuracy: 0.9954 - val_loss: 1.3040e-04 - val_accuracy: 1.0000\n",
            "Epoch 38/100\n",
            "11/11 [==============================] - 18s 2s/step - loss: 0.0052 - accuracy: 0.9969 - val_loss: 0.0530 - val_accuracy: 0.9872\n",
            "Epoch 39/100\n",
            "11/11 [==============================] - 20s 2s/step - loss: 0.0144 - accuracy: 0.9969 - val_loss: 8.7052e-04 - val_accuracy: 1.0000\n",
            "Epoch 40/100\n",
            "11/11 [==============================] - 18s 2s/step - loss: 0.0068 - accuracy: 0.9985 - val_loss: 0.1046 - val_accuracy: 0.9872\n",
            "Epoch 41/100\n",
            "11/11 [==============================] - 19s 2s/step - loss: 0.0085 - accuracy: 0.9954 - val_loss: 2.9387e-06 - val_accuracy: 1.0000\n",
            "Epoch 42/100\n",
            "11/11 [==============================] - 18s 2s/step - loss: 0.0140 - accuracy: 0.9969 - val_loss: 5.9605e-08 - val_accuracy: 1.0000\n",
            "Epoch 43/100\n",
            "11/11 [==============================] - 19s 2s/step - loss: 0.0056 - accuracy: 0.9985 - val_loss: 9.5058e-07 - val_accuracy: 1.0000\n",
            "Epoch 44/100\n",
            "11/11 [==============================] - 18s 2s/step - loss: 0.0011 - accuracy: 0.9985 - val_loss: 1.4517e-04 - val_accuracy: 1.0000\n",
            "Epoch 45/100\n",
            "11/11 [==============================] - 19s 2s/step - loss: 0.0148 - accuracy: 0.9969 - val_loss: 0.0011 - val_accuracy: 1.0000\n",
            "Epoch 46/100\n",
            "11/11 [==============================] - 18s 2s/step - loss: 8.1008e-04 - accuracy: 1.0000 - val_loss: 7.0813e-06 - val_accuracy: 1.0000\n",
            "Epoch 47/100\n",
            "11/11 [==============================] - 20s 2s/step - loss: 0.0024 - accuracy: 0.9985 - val_loss: 1.5283e-09 - val_accuracy: 1.0000\n",
            "Epoch 48/100\n",
            "11/11 [==============================] - 18s 2s/step - loss: 7.1182e-06 - accuracy: 1.0000 - val_loss: 5.3490e-07 - val_accuracy: 1.0000\n",
            "Epoch 49/100\n",
            "11/11 [==============================] - 18s 2s/step - loss: 0.0072 - accuracy: 0.9985 - val_loss: 0.4463 - val_accuracy: 0.9615\n",
            "Epoch 50/100\n",
            "11/11 [==============================] - 19s 2s/step - loss: 0.0935 - accuracy: 0.9877 - val_loss: 0.0784 - val_accuracy: 0.9872\n",
            "Epoch 51/100\n",
            "11/11 [==============================] - 18s 2s/step - loss: 0.0289 - accuracy: 0.9938 - val_loss: 3.6680e-08 - val_accuracy: 1.0000\n",
            "Epoch 52/100\n",
            "11/11 [==============================] - 19s 2s/step - loss: 0.0320 - accuracy: 0.9938 - val_loss: 1.2444e-05 - val_accuracy: 1.0000\n",
            "Epoch 53/100\n",
            "11/11 [==============================] - 18s 2s/step - loss: 0.0520 - accuracy: 0.9907 - val_loss: 0.0000e+00 - val_accuracy: 1.0000\n",
            "Epoch 54/100\n",
            "11/11 [==============================] - 19s 2s/step - loss: 0.0417 - accuracy: 0.9923 - val_loss: 7.7178e-07 - val_accuracy: 1.0000\n",
            "Epoch 55/100\n",
            "11/11 [==============================] - 18s 2s/step - loss: 0.0297 - accuracy: 0.9938 - val_loss: 2.0585e-06 - val_accuracy: 1.0000\n",
            "Epoch 56/100\n",
            "11/11 [==============================] - 19s 2s/step - loss: 0.0779 - accuracy: 0.9923 - val_loss: 0.0266 - val_accuracy: 0.9872\n",
            "Epoch 57/100\n",
            "11/11 [==============================] - 18s 2s/step - loss: 0.4574 - accuracy: 0.9645 - val_loss: 0.5696 - val_accuracy: 0.9615\n",
            "Epoch 58/100\n",
            "11/11 [==============================] - 19s 2s/step - loss: 0.2370 - accuracy: 0.9691 - val_loss: 1.5283e-09 - val_accuracy: 1.0000\n",
            "Epoch 59/100\n",
            "11/11 [==============================] - 18s 2s/step - loss: 0.2565 - accuracy: 0.9815 - val_loss: 0.0000e+00 - val_accuracy: 1.0000\n",
            "Epoch 60/100\n",
            "11/11 [==============================] - 19s 2s/step - loss: 0.2009 - accuracy: 0.9861 - val_loss: 0.0290 - val_accuracy: 0.9872\n",
            "Epoch 61/100\n",
            "11/11 [==============================] - 18s 2s/step - loss: 0.7793 - accuracy: 0.9414 - val_loss: 6.7387e-04 - val_accuracy: 1.0000\n",
            "Epoch 62/100\n",
            "11/11 [==============================] - 20s 2s/step - loss: 0.1151 - accuracy: 0.9815 - val_loss: 2.4750e-04 - val_accuracy: 1.0000\n",
            "Epoch 63/100\n",
            "11/11 [==============================] - 18s 2s/step - loss: 0.0555 - accuracy: 0.9923 - val_loss: 0.0094 - val_accuracy: 0.9872\n",
            "Epoch 64/100\n",
            "11/11 [==============================] - 19s 2s/step - loss: 0.0049 - accuracy: 0.9969 - val_loss: 5.2809e-05 - val_accuracy: 1.0000\n",
            "Epoch 65/100\n",
            "11/11 [==============================] - 18s 2s/step - loss: 0.0248 - accuracy: 0.9985 - val_loss: 5.3491e-08 - val_accuracy: 1.0000\n",
            "Epoch 66/100\n",
            "11/11 [==============================] - 20s 2s/step - loss: 0.0440 - accuracy: 0.9954 - val_loss: 0.0000e+00 - val_accuracy: 1.0000\n",
            "Epoch 67/100\n",
            "11/11 [==============================] - 18s 2s/step - loss: 2.4945e-07 - accuracy: 1.0000 - val_loss: 0.0000e+00 - val_accuracy: 1.0000\n",
            "Epoch 68/100\n",
            "11/11 [==============================] - 19s 2s/step - loss: 0.0135 - accuracy: 0.9985 - val_loss: 0.0000e+00 - val_accuracy: 1.0000\n",
            "Epoch 69/100\n",
            "11/11 [==============================] - 18s 2s/step - loss: 0.0000e+00 - accuracy: 1.0000 - val_loss: 0.0000e+00 - val_accuracy: 1.0000\n",
            "Epoch 70/100\n",
            "11/11 [==============================] - 19s 2s/step - loss: 6.8868e-06 - accuracy: 1.0000 - val_loss: 0.0000e+00 - val_accuracy: 1.0000\n",
            "Epoch 71/100\n",
            "11/11 [==============================] - 18s 2s/step - loss: 5.1370e-05 - accuracy: 1.0000 - val_loss: 0.0000e+00 - val_accuracy: 1.0000\n",
            "Epoch 72/100\n",
            "11/11 [==============================] - 19s 2s/step - loss: 0.0017 - accuracy: 0.9985 - val_loss: 0.0000e+00 - val_accuracy: 1.0000\n",
            "Epoch 73/100\n",
            "11/11 [==============================] - 18s 2s/step - loss: 2.9941e-06 - accuracy: 1.0000 - val_loss: 0.0000e+00 - val_accuracy: 1.0000\n",
            "Epoch 74/100\n",
            "11/11 [==============================] - 19s 2s/step - loss: 1.5006e-06 - accuracy: 1.0000 - val_loss: 0.0000e+00 - val_accuracy: 1.0000\n",
            "Epoch 75/100\n",
            "11/11 [==============================] - 18s 2s/step - loss: 3.4834e-04 - accuracy: 1.0000 - val_loss: 0.0000e+00 - val_accuracy: 1.0000\n",
            "Epoch 76/100\n",
            "11/11 [==============================] - 19s 2s/step - loss: 4.1184e-07 - accuracy: 1.0000 - val_loss: 0.0000e+00 - val_accuracy: 1.0000\n",
            "Epoch 77/100\n",
            "11/11 [==============================] - 18s 2s/step - loss: 9.1982e-10 - accuracy: 1.0000 - val_loss: 0.0000e+00 - val_accuracy: 1.0000\n",
            "Epoch 78/100\n",
            "11/11 [==============================] - 19s 2s/step - loss: 3.5689e-08 - accuracy: 1.0000 - val_loss: 0.0000e+00 - val_accuracy: 1.0000\n",
            "Epoch 79/100\n",
            "11/11 [==============================] - 18s 2s/step - loss: 7.0089e-08 - accuracy: 1.0000 - val_loss: 0.0000e+00 - val_accuracy: 1.0000\n",
            "Epoch 80/100\n",
            "11/11 [==============================] - 20s 2s/step - loss: 2.2773e-07 - accuracy: 1.0000 - val_loss: 0.0000e+00 - val_accuracy: 1.0000\n",
            "Epoch 81/100\n",
            "11/11 [==============================] - 18s 2s/step - loss: 1.3328e-05 - accuracy: 1.0000 - val_loss: 0.0000e+00 - val_accuracy: 1.0000\n",
            "Epoch 82/100\n",
            "11/11 [==============================] - 19s 2s/step - loss: 3.6793e-10 - accuracy: 1.0000 - val_loss: 0.0000e+00 - val_accuracy: 1.0000\n",
            "Epoch 83/100\n",
            "11/11 [==============================] - 18s 2s/step - loss: 6.2011e-06 - accuracy: 1.0000 - val_loss: 0.0000e+00 - val_accuracy: 1.0000\n",
            "Epoch 84/100\n",
            "11/11 [==============================] - 19s 2s/step - loss: 1.2233e-07 - accuracy: 1.0000 - val_loss: 0.0000e+00 - val_accuracy: 1.0000\n",
            "Epoch 85/100\n",
            "11/11 [==============================] - 18s 2s/step - loss: 3.6560e-06 - accuracy: 1.0000 - val_loss: 0.0000e+00 - val_accuracy: 1.0000\n",
            "Epoch 86/100\n",
            "11/11 [==============================] - 19s 2s/step - loss: 3.2698e-05 - accuracy: 1.0000 - val_loss: 0.0000e+00 - val_accuracy: 1.0000\n",
            "Epoch 87/100\n",
            "11/11 [==============================] - 18s 2s/step - loss: 8.7502e-06 - accuracy: 1.0000 - val_loss: 0.0000e+00 - val_accuracy: 1.0000\n",
            "Epoch 88/100\n",
            "11/11 [==============================] - 19s 2s/step - loss: 0.0107 - accuracy: 0.9985 - val_loss: 0.0000e+00 - val_accuracy: 1.0000\n",
            "Epoch 89/100\n",
            "11/11 [==============================] - 18s 2s/step - loss: 0.0056 - accuracy: 0.9985 - val_loss: 0.0000e+00 - val_accuracy: 1.0000\n",
            "Epoch 90/100\n",
            "11/11 [==============================] - 19s 2s/step - loss: 3.5505e-08 - accuracy: 1.0000 - val_loss: 0.0000e+00 - val_accuracy: 1.0000\n",
            "Epoch 91/100\n",
            "11/11 [==============================] - 18s 2s/step - loss: 5.9870e-07 - accuracy: 1.0000 - val_loss: 0.0000e+00 - val_accuracy: 1.0000\n",
            "Epoch 92/100\n",
            "11/11 [==============================] - 19s 2s/step - loss: 0.0012 - accuracy: 0.9985 - val_loss: 0.0000e+00 - val_accuracy: 1.0000\n",
            "Epoch 93/100\n",
            "11/11 [==============================] - 18s 2s/step - loss: 1.8396e-09 - accuracy: 1.0000 - val_loss: 0.0000e+00 - val_accuracy: 1.0000\n",
            "Epoch 94/100\n",
            "11/11 [==============================] - 18s 2s/step - loss: 1.0854e-08 - accuracy: 1.0000 - val_loss: 0.0000e+00 - val_accuracy: 1.0000\n",
            "Epoch 95/100\n",
            "11/11 [==============================] - 19s 2s/step - loss: 0.0058 - accuracy: 0.9985 - val_loss: 0.0000e+00 - val_accuracy: 1.0000\n",
            "Epoch 96/100\n",
            "11/11 [==============================] - 18s 2s/step - loss: 3.5356e-07 - accuracy: 1.0000 - val_loss: 0.0000e+00 - val_accuracy: 1.0000\n",
            "Epoch 97/100\n",
            "11/11 [==============================] - 19s 2s/step - loss: 0.0456 - accuracy: 0.9969 - val_loss: 0.0000e+00 - val_accuracy: 1.0000\n",
            "Epoch 98/100\n",
            "11/11 [==============================] - 18s 2s/step - loss: 0.0027 - accuracy: 0.9985 - val_loss: 0.0000e+00 - val_accuracy: 1.0000\n",
            "Epoch 99/100\n",
            "11/11 [==============================] - 19s 2s/step - loss: 3.2297e-05 - accuracy: 1.0000 - val_loss: 0.0000e+00 - val_accuracy: 1.0000\n",
            "Epoch 100/100\n",
            "11/11 [==============================] - 18s 2s/step - loss: 0.0000e+00 - accuracy: 1.0000 - val_loss: 0.0000e+00 - val_accuracy: 1.0000\n"
          ]
        }
      ],
      "source": [
        "r = model.fit_generator(\n",
        "    training_set,\n",
        "    validation_data=test_set,\n",
        "    epochs=100,\n",
        "    steps_per_epoch=len(training_set),\n",
        "    validation_steps=len(test_set)\n",
        ")"
      ]
    },
    {
      "cell_type": "code",
      "execution_count": 66,
      "metadata": {
        "colab": {
          "base_uri": "https://localhost:8080/",
          "height": 447
        },
        "id": "F_Naj129KDad",
        "outputId": "27a626f1-733d-491c-addf-1fdcb154fe3c"
      },
      "outputs": [
        {
          "output_type": "display_data",
          "data": {
            "text/plain": [
              "<Figure size 640x480 with 1 Axes>"
            ],
            "image/png": "[encoded data removed]"
          },
          "metadata": {}
        },
        {
          "output_type": "display_data",
          "data": {
            "text/plain": [
              "<Figure size 640x480 with 0 Axes>"
            ]
          },
          "metadata": {}
        }
      ],
      "source": [
        "import matplotlib.pyplot as plt\n",
        "plt.plot(r.history['loss'],label='train_loss')\n",
        "plt.plot(r.history['val_loss'],label='val_loss')\n",
        "plt.legend()\n",
        "plt.show()\n",
        "plt.savefig('LossVal_loss')\n"
      ]
    },
    {
      "cell_type": "code",
      "execution_count": 67,
      "metadata": {
        "colab": {
          "base_uri": "https://localhost:8080/",
          "height": 447
        },
        "id": "oPubPUH5LXkW",
        "outputId": "4f81470b-7465-4356-e537-8397840cb6a2"
      },
      "outputs": [
        {
          "output_type": "display_data",
          "data": {
            "text/plain": [
              "<Figure size 640x480 with 1 Axes>"
            ],
            "image/png": "[encoded data removed]"
          },
          "metadata": {}
        },
        {
          "output_type": "display_data",
          "data": {
            "text/plain": [
              "<Figure size 640x480 with 0 Axes>"
            ]
          },
          "metadata": {}
        }
      ],
      "source": [
        "import matplotlib.pyplot as plt\n",
        "plt.plot(r.history['accuracy'],label='train_acc')\n",
        "plt.plot(r.history['val_accuracy'],label='val_acc')\n",
        "plt.legend()\n",
        "plt.show()\n",
        "plt.savefig('AccVal_acc')"
      ]
    },
    {
      "cell_type": "code",
      "source": [],
      "metadata": {
        "id": "MiFBfUMlxnYW"
      },
      "execution_count": null,
      "outputs": []
    },
    {
      "cell_type": "code",
      "execution_count": null,
      "metadata": {
        "id": "TyscB0i08vj4"
      },
      "outputs": [],
      "source": [
        "from sklearn.datasets import data\n",
        "from sklearn.model_selection import train_test_split\n",
        "from sklearn.tree import DecisionTreeClassifier\n",
        "from sklearn.metrics import confusion_matrix\n",
        "import seaborn as sns\n",
        "import matplotlib.pyplot as plt\n",
        "from sklearn.metrics import accuracy_score, precision_score, recall_score, f1_score\n"
      ]
    },
    {
      "cell_type": "code",
      "execution_count": null,
      "metadata": {
        "id": "FVscPiU8P66w"
      },
      "outputs": [],
      "source": [
        "# Load dataset\n",
        "X, y= load data(return_X_y=True)\n",
        "X_train, X_test, y_train, y_test = train_test_split(X, y,test_size=0.25)\n",
        " \n",
        "# Train the model\n",
        "tree = DecisionTreeClassifier(random_state=23)\n",
        "tree.fit(X_train, y_train)\n",
        " \n",
        "# preduction\n",
        "y_pred = tree.predict(X_test)\n",
        " \n",
        "# compute the confusion matrix\n",
        "cm = confusion_matrix(y_test,y_pred)\n",
        " \n",
        "#Plot the confusion matrix.\n",
        "sns.heatmap(cm,\n",
        "            annot=True,\n",
        "            fmt='g',\n",
        "            xticklabels=['leukumized', 'normal'],\n",
        "             yticklabels=['leukumized', 'normal'])\n",
        "plt.ylabel('Prediction',fontsize=13)\n",
        "plt.xlabel('Actual',fontsize=13)\n",
        "plt.title('Confusion Matrix',fontsize=17)\n",
        "plt.show()\n",
        "# Finding precision and recall\n",
        "accuracy = accuracy_score(y_test, y_pred)\n",
        "print(\"Accuracy   :\", accuracy)\n",
        "precision = precision_score(y_test, y_pred)\n",
        "print(\"Precision :\", precision)\n",
        "recall = recall_score(y_test, y_pred)\n",
        "print(\"Recall    :\", recall)\n",
        "F1_score = f1_score(y_test, y_pred)\n",
        "print(\"F1-score  :\", F1_score)"
      ]
    }
  ],
  "metadata": {
    "accelerator": "GPU",
    "colab": {
      "provenance": [],
      "mount_file_id": "1Hl9aEyKT7gb-E_ZeB3_SC5yKV892WQQS",
      "authorship_tag": "ABX9TyOcLE3vEiDJeo/BZda6lrIS",
      "include_colab_link": true
    },
    "gpuClass": "standard",
    "kernelspec": {
      "display_name": "Python 3",
      "name": "python3"
    },
    "language_info": {
      "name": "python"
    }
  },
  "nbformat": 4,
  "nbformat_minor": 0
}